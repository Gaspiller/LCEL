{
 "cells": [
  {
   "cell_type": "code",
   "execution_count": 1,
   "id": "089fe24e-4d49-48e0-952b-7a64250ed16f",
   "metadata": {},
   "outputs": [],
   "source": [
    "import json\n",
    "import pandas as pd"
   ]
  },
  {
   "cell_type": "code",
   "execution_count": 3,
   "id": "61e4f30d-92d6-4694-8649-0c36a7315295",
   "metadata": {},
   "outputs": [],
   "source": [
    "with open(\"clinical_case.json\", \"r\", encoding=\"utf-8\") as f:\n",
    "    data = json.load(f)"
   ]
  },
  {
   "cell_type": "code",
   "execution_count": null,
   "id": "24a9e68f-3aa5-4b47-a1f8-327931a242c4",
   "metadata": {},
   "outputs": [],
   "source": [
    "# 如果 data 是单个字典，就直接取字段\n",
    "if isinstance(data, dict):\n",
    "    df = pd.DataFrame([{\n",
    "        \"index\": data.get(\"index\"),\n",
    "        \"calculator_name\": data.get(\"calculator_name\"),\n",
    "        \"calculator_score\": data.get(\"calculator_score\")\n",
    "    }])\n",
    "\n",
    "# 如果 data 是列表，就对每个元素提取\n",
    "elif isinstance(data, list):\n",
    "    df = pd.DataFrame([{\n",
    "        \"index\": item.get(\"index\"),\n",
    "        \"calculator_name\": item.get(\"calculator_name\"),\n",
    "        \"calculator_score\": item.get(\"calculator_score\")\n",
    "    } for item in data])\n",
    "\n",
    "# 导出 Excel\n",
    "df.to_excel(\"log.xlsx\", index=False)\n",
    "\n",
    "print(\"导出完成！文件名：output.xlsx\")"
   ]
  }
 ],
 "metadata": {
  "kernelspec": {
   "display_name": "Python [conda env:base] *",
   "language": "python",
   "name": "conda-base-py"
  },
  "language_info": {
   "codemirror_mode": {
    "name": "ipython",
    "version": 3
   },
   "file_extension": ".py",
   "mimetype": "text/x-python",
   "name": "python",
   "nbconvert_exporter": "python",
   "pygments_lexer": "ipython3",
   "version": "3.12.7"
  }
 },
 "nbformat": 4,
 "nbformat_minor": 5
}
