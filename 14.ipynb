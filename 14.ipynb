{
 "cells": [
  {
   "cell_type": "code",
   "execution_count": null,
   "id": "e76a1db1-c9cd-4065-a421-cfaeb8428e67",
   "metadata": {},
   "outputs": [],
   "source": [
    "import os\n",
    "import os\n",
    "from dotenv import load_dotenv\n",
    "# Load environment variables from openai.env file\n",
    "load_dotenv(\"openai.env\")\n",
    "\n",
    "# Read the OPENAI_API_KEY from the environment\n",
    "api_key = os.getenv(\"OPENAI_API_KEY\")\n",
    "api_base = os.getenv(\"OPENAI_API_BASE\")\n",
    "os.environ[\"OPENAI_API_KEY\"] = api_key\n",
    "os.environ[\"OPENAI_API_BASE\"] = api_base"
   ]
  },
  {
   "cell_type": "code",
   "execution_count": null,
   "id": "e32312ad-ea57-4d44-8e4b-08c0bff951fe",
   "metadata": {},
   "outputs": [],
   "source": [
    "from langchain_core.prompts import ChatPromptTemplate\n",
    "from langchain_openai import ChatOpenAI\n",
    "\n",
    "prompt = ChatPromptTemplate.from_template(\"给我讲一个关于{foo}的笑话\")\n",
    "model = ChatOpenAI(\n",
    "    temperature=0,\n",
    "    model=\"gpt-3.5-turbo\",\n",
    ")\n",
    "chain = prompt | model"
   ]
  },
  {
   "cell_type": "code",
   "execution_count": null,
   "id": "4a238c62-4f62-4e62-8710-6c09b62c33c5",
   "metadata": {},
   "outputs": [],
   "source": [
    "chain.invoke({\"foo\": \"狗熊\"})"
   ]
  },
  {
   "cell_type": "code",
   "execution_count": null,
   "id": "99deb0cf-266a-46eb-90bb-5cd47414fbbf",
   "metadata": {},
   "outputs": [],
   "source": [
    "chain = prompt | model.bind(stop=[\"\\n\"])"
   ]
  },
  {
   "cell_type": "code",
   "execution_count": null,
   "id": "971cc71f-dc75-4967-92cc-ead4ae494ea2",
   "metadata": {},
   "outputs": [],
   "source": [
    "functions = [\n",
    "    {\n",
    "        \"name\": \"joke\",\n",
    "        \"description\": \"讲笑话\",\n",
    "        \"parameters\": {\n",
    "            \"type\": \"object\",\n",
    "            \"properties\": {\n",
    "                \"setup\": {\"type\": \"string\", \"description\": \"笑话的开头\"},\n",
    "                \"punchline\": {\n",
    "                    \"type\": \"string\",\n",
    "                    \"description\": \"爆梗的结尾\",\n",
    "                },\n",
    "            },\n",
    "            \"required\": [\"setup\", \"punchline\"],\n",
    "        },\n",
    "    }\n",
    "]\n",
    "chain = prompt | model.bind(function_call={\"name\": \"joke\"}, functions=functions)"
   ]
  },
  {
   "cell_type": "code",
   "execution_count": null,
   "id": "9e0fb683-8ef2-4beb-adbc-f93dc1677355",
   "metadata": {},
   "outputs": [],
   "source": [
    "chain.invoke({\"foo\": \"男人\"}, config={})"
   ]
  },
  {
   "cell_type": "code",
   "execution_count": null,
   "id": "c36a723e-961b-47e2-a582-d0045a92538d",
   "metadata": {},
   "outputs": [],
   "source": [
    "from langchain_core.output_parsers import StrOutputParser\n",
    "\n",
    "chain = prompt | model | StrOutputParser()"
   ]
  },
  {
   "cell_type": "code",
   "execution_count": null,
   "id": "ba5295e1-d44a-4809-b68d-8a416ad226f0",
   "metadata": {},
   "outputs": [],
   "source": [
    "chain.invoke({\"foo\": \"女人\"})"
   ]
  },
  {
   "cell_type": "code",
   "execution_count": null,
   "id": "605d06bc-2b99-4bfa-a0fb-a72b96f7858d",
   "metadata": {},
   "outputs": [],
   "source": [
    "chain.invoke({\"foo\": \"女人\"})"
   ]
  },
  {
   "cell_type": "code",
   "execution_count": null,
   "id": "a7376e6b-181d-4fe2-94df-c3617e18f740",
   "metadata": {},
   "outputs": [],
   "source": [
    "#只输出setup\n",
    "from langchain.output_parsers.openai_functions import JsonKeyOutputFunctionsParser\n",
    "from langchain_core.runnables import RunnableParallel, RunnablePassthrough\n",
    "\n",
    "chain = (\n",
    "    {\"foo\": RunnablePassthrough()} #使用RunnablePassthrough()跳过prompt\n",
    "    | prompt\n",
    "    | model.bind(function_call={\"name\": \"joke\"}, functions=functions)\n",
    "    | JsonKeyOutputFunctionsParser(key_name=\"punchline\") # 定义输出的key\n",
    ")"
   ]
  },
  {
   "cell_type": "code",
   "execution_count": null,
   "id": "41be0cba-6913-49d9-a302-a79113786222",
   "metadata": {},
   "outputs": [],
   "source": [
    "#chain.invoke({\"foo\": \"女人\"})\n",
    "#使用RunnablePassthrough()跳过prompt\n",
    "chain.invoke(\"女人\")"
   ]
  },
  {
   "cell_type": "code",
   "execution_count": null,
   "id": "15f26101-121e-4ed7-865c-be5ce2efee2b",
   "metadata": {},
   "outputs": [],
   "source": []
  }
 ],
 "metadata": {
  "kernelspec": {
   "display_name": "Python [conda env:base] *",
   "language": "python",
   "name": "conda-base-py"
  },
  "language_info": {
   "codemirror_mode": {
    "name": "ipython",
    "version": 3
   },
   "file_extension": ".py",
   "mimetype": "text/x-python",
   "name": "python",
   "nbconvert_exporter": "python",
   "pygments_lexer": "ipython3",
   "version": "3.12.7"
  }
 },
 "nbformat": 4,
 "nbformat_minor": 5
}
