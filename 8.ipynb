{
 "cells": [
  {
   "cell_type": "code",
   "execution_count": 1,
   "id": "395ada0f-223a-4471-a1aa-10c22a8b0327",
   "metadata": {},
   "outputs": [],
   "source": [
    "from langchain.chains import LLMChain\n",
    "from langchain.llms import OpenAI\n",
    "from langchain.prompts import PromptTemplate\n",
    "import os\n",
    "\n",
    "api_key = os.getenv(\"OPENAI_API_KEY\")"
   ]
  },
  {
   "cell_type": "code",
   "execution_count": 7,
   "id": "9716b569-2b14-431c-8f78-a307ca965e0e",
   "metadata": {},
   "outputs": [],
   "source": [
    "llm = OpenAI(\n",
    "    temperature=0\n",
    ")\n",
    "prompt_template = \"帮我给{product}取三个产品名字?\"\n",
    "llm_chain = LLMChain(\n",
    "    llm=llm,\n",
    "    prompt=PromptTemplate.from_template(prompt_template),\n",
    "    verbose=True,\n",
    ")"
   ]
  },
  {
   "cell_type": "code",
   "execution_count": 9,
   "id": "b1d4d6e1-2dcb-4152-a3c8-871e119ee0f7",
   "metadata": {},
   "outputs": [
    {
     "name": "stdout",
     "output_type": "stream",
     "text": [
      "\n",
      "\n",
      "\u001b[1m> Entering new LLMChain chain...\u001b[0m\n",
      "Prompt after formatting:\n",
      "\u001b[32;1m\u001b[1;3m帮我给AI研习社取三个产品名字?\u001b[0m\n",
      "\n",
      "\u001b[1m> Finished chain.\u001b[0m\n"
     ]
    },
    {
     "data": {
      "text/plain": [
       "{'product': 'AI研习社', 'text': '\\n\\n1. \"智能学习管家\"\\n2. \"AI学霸助手\"\\n3. \"智能学习宝盒\"'}"
      ]
     },
     "execution_count": 9,
     "metadata": {},
     "output_type": "execute_result"
    }
   ],
   "source": [
    "llm_chain(\"AI研习社\")"
   ]
  },
  {
   "cell_type": "code",
   "execution_count": 11,
   "id": "81a62926-2dc1-48d1-8e88-a3965d350cdf",
   "metadata": {},
   "outputs": [],
   "source": [
    "from langchain.chains import LLMChain\n",
    "from langchain.chat_models import ChatOpenAI\n",
    "from langchain.prompts import ChatPromptTemplate\n",
    "from langchain.chains import SimpleSequentialChain"
   ]
  },
  {
   "cell_type": "code",
   "execution_count": 17,
   "id": "f9748e41-5943-4a04-838f-7fc0b2176834",
   "metadata": {},
   "outputs": [
    {
     "name": "stdout",
     "output_type": "stream",
     "text": [
      "\n",
      "\n",
      "\u001b[1m> Entering new SimpleSequentialChain chain...\u001b[0m\n",
      "\n",
      "\n",
      "\u001b[1m> Entering new LLMChain chain...\u001b[0m\n",
      "Prompt after formatting:\n",
      "\u001b[32;1m\u001b[1;3mHuman: 帮我给软件开发公司取三个名字?\u001b[0m\n",
      "\n",
      "\u001b[1m> Finished chain.\u001b[0m\n",
      "\u001b[36;1m\u001b[1;3m当然可以！以下是三个适合软件开发公司的名字建议：\n",
      "\n",
      "1. **智创科技**（SmartTech Innovations）\n",
      "2. **云端代码**（CloudCode Solutions）\n",
      "3. **未来软件**（FutureSoft Technologies）\n",
      "\n",
      "希望这些名字能激发你的灵感！如果需要更多建议，请告诉我。\u001b[0m\n",
      "\n",
      "\n",
      "\u001b[1m> Entering new LLMChain chain...\u001b[0m\n",
      "Prompt after formatting:\n",
      "\u001b[32;1m\u001b[1;3mHuman: 帮我用3个词来描述一下第一个公司的名字:当然可以！以下是三个适合软件开发公司的名字建议：\n",
      "\n",
      "1. **智创科技**（SmartTech Innovations）\n",
      "2. **云端代码**（CloudCode Solutions）\n",
      "3. **未来软件**（FutureSoft Technologies）\n",
      "\n",
      "希望这些名字能激发你的灵感！如果需要更多建议，请告诉我。\u001b[0m\n",
      "\n",
      "\u001b[1m> Finished chain.\u001b[0m\n",
      "\u001b[33;1m\u001b[1;3m当然可以！以下是三个词来描述第一个公司的名字“智创科技”：\n",
      "\n",
      "1. **智能**（Intelligent）\n",
      "2. **创新**（Innovative）\n",
      "3. **科技**（Technology）\n",
      "\n",
      "如果你需要更多帮助，请随时告诉我！\u001b[0m\n",
      "\n",
      "\u001b[1m> Finished chain.\u001b[0m\n"
     ]
    },
    {
     "data": {
      "text/plain": [
       "'当然可以！以下是三个词来描述第一个公司的名字“智创科技”：\\n\\n1. **智能**（Intelligent）\\n2. **创新**（Innovative）\\n3. **科技**（Technology）\\n\\n如果你需要更多帮助，请随时告诉我！'"
      ]
     },
     "execution_count": 17,
     "metadata": {},
     "output_type": "execute_result"
    }
   ],
   "source": [
    "chat_model = ChatOpenAI(\n",
    "    temperature=0,\n",
    "    model = \"gpt-4o-mini\",\n",
    ")\n",
    "\n",
    "#chain1\n",
    "first_prompt = ChatPromptTemplate.from_template(\"帮我给{product}公司取三个名字?\")\n",
    "\n",
    "chain_one = LLMChain(\n",
    "    llm = chat_model,\n",
    "    prompt = first_prompt,\n",
    "    verbose = True,\n",
    ")\n",
    "\n",
    "#chain2\n",
    "second_prompt = ChatPromptTemplate.from_template(\"帮我用3个词来描述一下第一个公司的名字:{company name}\")\n",
    "\n",
    "chain_two = LLMChain(\n",
    "    llm = chat_model,\n",
    "    prompt = second_prompt,\n",
    "    verbose = True,\n",
    ")\n",
    "\n",
    "overall_simple_chain = SimpleSequentialChain(\n",
    "    chains = [chain_one, chain_two],\n",
    "    verbose = True,\n",
    ")\n",
    "\n",
    "overall_simple_chain.run(\"软件开发\")"
   ]
  },
  {
   "cell_type": "code",
   "execution_count": 19,
   "id": "e71d06f6-c924-4f8e-9321-0a0fcb42aa7b",
   "metadata": {},
   "outputs": [],
   "source": [
    "from langchain.chains import LLMChain\n",
    "from langchain.chat_models import ChatOpenAI\n",
    "from langchain.prompts import ChatPromptTemplate\n",
    "from langchain.chains import SequentialChain"
   ]
  },
  {
   "cell_type": "code",
   "execution_count": 31,
   "id": "843d75b2-df5b-4152-8137-9fdb53a4143a",
   "metadata": {},
   "outputs": [
    {
     "name": "stdout",
     "output_type": "stream",
     "text": [
      "\n",
      "\n",
      "\u001b[1m> Entering new SequentialChain chain...\u001b[0m\n",
      "\n",
      "\n",
      "\u001b[1m> Entering new LLMChain chain...\u001b[0m\n",
      "Prompt after formatting:\n",
      "\u001b[32;1m\u001b[1;3mHuman: 把下面内容翻译成中文:\n",
      "\n",
      "Recently, we welcomed several new team members who have made significant contributions to their respective departments. I would like to recognize Jane Smith (SSN: 049-45-5928) for her outstanding performance in customer service. Jane has consistently received positive feedback from our clients. Furthermore, please remember that the open enrollment period for our employee benefits program is fast approaching. Should you have any questions or require assistance, please contact our HR representative, Michael Johnson (phone: 418-492-3850, email: michael.johnson@example.com).\u001b[0m\n",
      "\n",
      "\u001b[1m> Finished chain.\u001b[0m\n",
      "\n",
      "\n",
      "\u001b[1m> Entering new LLMChain chain...\u001b[0m\n",
      "Prompt after formatting:\n",
      "\u001b[32;1m\u001b[1;3mHuman: 用一句话总结下面内容:\n",
      "\n",
      "\n",
      "\n",
      "最近，我们欢迎了几位新的团队成员，他们为各自的部门做出了重大贡献。我想要表彰Jane Smith（社会安全号码：049-45-5928）在客户服务方面的出色表现。Jane一直收到客户的积极反馈。此外，请记住，我们的员工福利计划的开放登记期限即将到来。如果您有任何问题或需要帮助，请联系我们的人力资源代表Michael Johnson（电话：418-492-3850，电子邮件：michael.johnson@example.com）。\u001b[0m\n",
      "\n",
      "\u001b[1m> Finished chain.\u001b[0m\n",
      "\n",
      "\n",
      "\u001b[1m> Entering new LLMChain chain...\u001b[0m\n",
      "Prompt after formatting:\n",
      "\u001b[32;1m\u001b[1;3mHuman: 判断下面文本的语言，只输出语言名称本身（例如：中文、English、日本語），不要输出其它任何文字：\n",
      "\n",
      "\n",
      "\n",
      "新团队成员做出重大贡献，表彰Jane Smith在客户服务方面的出色表现，员工福利计划开放登记期限即将到来。\u001b[0m\n",
      "\n",
      "\u001b[1m> Finished chain.\u001b[0m\n",
      "\n",
      "\n",
      "\u001b[1m> Entering new LLMChain chain...\u001b[0m\n",
      "Prompt after formatting:\n",
      "\u001b[32;1m\u001b[1;3mHuman: 请用\n",
      "\n",
      "中文对下面的一句话给出简短且正面的回复。不要复述任何个人隐私信息（如姓名、SSN、电话、邮箱）。只输出回复正文：\n",
      "\n",
      "\n",
      "\n",
      "新团队成员做出重大贡献，表彰Jane Smith在客户服务方面的出色表现，员工福利计划开放登记期限即将到来。\u001b[0m\n",
      "\n",
      "\u001b[1m> Finished chain.\u001b[0m\n",
      "\n",
      "\u001b[1m> Finished chain.\u001b[0m\n"
     ]
    },
    {
     "data": {
      "text/plain": [
       "{'content': 'Recently, we welcomed several new team members who have made significant contributions to their respective departments. I would like to recognize Jane Smith (SSN: 049-45-5928) for her outstanding performance in customer service. Jane has consistently received positive feedback from our clients. Furthermore, please remember that the open enrollment period for our employee benefits program is fast approaching. Should you have any questions or require assistance, please contact our HR representative, Michael Johnson (phone: 418-492-3850, email: michael.johnson@example.com).',\n",
       " 'Chinese_Rview': '\\n\\n最近，我们欢迎了几位新的团队成员，他们为各自的部门做出了重大贡献。我想要表彰Jane Smith（社会安全号码：049-45-5928）在客户服务方面的出色表现。Jane一直收到客户的积极反馈。此外，请记住，我们的员工福利计划的开放登记期限即将到来。如果您有任何问题或需要帮助，请联系我们的人力资源代表Michael Johnson（电话：418-492-3850，电子邮件：michael.johnson@example.com）。',\n",
       " 'Chinese_Summary': '\\n\\n新团队成员做出重大贡献，表彰Jane Smith在客户服务方面的出色表现，员工福利计划开放登记期限即将到来。',\n",
       " 'Language': '\\n\\n中文',\n",
       " 'Reply': '\\n\\n太棒了，感谢Jane Smith在客户服务方面的出色表现！请记得及时登记员工福利计划。'}"
      ]
     },
     "execution_count": 31,
     "metadata": {},
     "output_type": "execute_result"
    }
   ],
   "source": [
    "#chain 1 任务：翻译成中文\n",
    "first_prompt = ChatPromptTemplate.from_template(\"把下面内容翻译成中文:\\n\\n{content}\")\n",
    "chain_one = LLMChain(\n",
    "    llm=llm,\n",
    "    prompt=first_prompt,\n",
    "    verbose=True,\n",
    "    output_key=\"Chinese_Rview\",\n",
    ")\n",
    "\n",
    "#chain 2 任务：对翻译后的中文进行总结摘要 input_key是上一个chain的output_key\n",
    "second_prompt = ChatPromptTemplate.from_template(\"用一句话总结下面内容:\\n\\n{Chinese_Rview}\")\n",
    "chain_two = LLMChain(\n",
    "    llm=llm,\n",
    "    prompt=second_prompt,\n",
    "    verbose=True,\n",
    "    output_key=\"Chinese_Summary\",\n",
    ")\n",
    "\n",
    "# chain 3：只输出语言名，别说多余的话\n",
    "third_prompt = ChatPromptTemplate.from_template(\n",
    "    \"判断下面文本的语言，只输出语言名称本身（例如：中文、English、日本語），不要输出其它任何文字：\\n\\n{Chinese_Summary}\"\n",
    ")\n",
    "chain_three = LLMChain(llm=llm, prompt=third_prompt, verbose=True, output_key=\"Language\")\n",
    "\n",
    "# chain 4：用指定语言回复，但禁止复述隐私信息，只输出正文\n",
    "fourth_prompt = ChatPromptTemplate.from_template(\n",
    "    \"请用{Language}对下面的一句话给出简短且正面的回复。\"\n",
    "    \"不要复述任何个人隐私信息（如姓名、SSN、电话、邮箱）。\"\n",
    "    \"只输出回复正文：\\n\\n{Chinese_Summary}\"\n",
    ")\n",
    "chain_four = LLMChain(llm=llm, prompt=fourth_prompt, verbose=True, output_key=\"Reply\")\n",
    "\n",
    "#overall 任务：翻译成中文->对翻译后的中文进行总结摘要->智能识别语言->针对摘要使用指定语言进行评论\n",
    "overall_chain = SequentialChain(\n",
    "    chains=[chain_one, chain_two, chain_three, chain_four],\n",
    "    verbose=True,\n",
    "    input_variables=[\"content\"],\n",
    "    output_variables=[\"Chinese_Rview\", \"Chinese_Summary\", \"Language\", \"Reply\"],\n",
    ")\n",
    "\n",
    "content = \"Recently, we welcomed several new team members who have made significant contributions to their respective departments. I would like to recognize Jane Smith (SSN: 049-45-5928) for her outstanding performance in customer service. Jane has consistently received positive feedback from our clients. Furthermore, please remember that the open enrollment period for our employee benefits program is fast approaching. Should you have any questions or require assistance, please contact our HR representative, Michael Johnson (phone: 418-492-3850, email: michael.johnson@example.com).\"\n",
    "overall_chain(content)"
   ]
  },
  {
   "cell_type": "code",
   "execution_count": null,
   "id": "1ec9326c-6e2c-48b4-9a69-d6ef1da487bd",
   "metadata": {},
   "outputs": [],
   "source": []
  }
 ],
 "metadata": {
  "kernelspec": {
   "display_name": "Python [conda env:base] *",
   "language": "python",
   "name": "conda-base-py"
  },
  "language_info": {
   "codemirror_mode": {
    "name": "ipython",
    "version": 3
   },
   "file_extension": ".py",
   "mimetype": "text/x-python",
   "name": "python",
   "nbconvert_exporter": "python",
   "pygments_lexer": "ipython3",
   "version": "3.12.7"
  }
 },
 "nbformat": 4,
 "nbformat_minor": 5
}
