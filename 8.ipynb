{
 "cells": [
  {
   "cell_type": "code",
   "execution_count": 1,
   "id": "395ada0f-223a-4471-a1aa-10c22a8b0327",
   "metadata": {},
   "outputs": [],
   "source": [
    "from langchain.chains import LLMChain\n",
    "from langchain.llms import OpenAI\n",
    "from langchain.prompts import PromptTemplate\n",
    "import os\n",
    "\n",
    "api_key = os.getenv(\"OPENAI_API_KEY\")"
   ]
  },
  {
   "cell_type": "code",
   "execution_count": 7,
   "id": "9716b569-2b14-431c-8f78-a307ca965e0e",
   "metadata": {},
   "outputs": [],
   "source": [
    "llm = OpenAI(\n",
    "    temperature=0\n",
    ")\n",
    "prompt_template = \"帮我给{product}取三个产品名字?\"\n",
    "llm_chain = LLMChain(\n",
    "    llm=llm,\n",
    "    prompt=PromptTemplate.from_template(prompt_template),\n",
    "    verbose=True,\n",
    ")"
   ]
  },
  {
   "cell_type": "code",
   "execution_count": 9,
   "id": "b1d4d6e1-2dcb-4152-a3c8-871e119ee0f7",
   "metadata": {},
   "outputs": [
    {
     "name": "stdout",
     "output_type": "stream",
     "text": [
      "\n",
      "\n",
      "\u001b[1m> Entering new LLMChain chain...\u001b[0m\n",
      "Prompt after formatting:\n",
      "\u001b[32;1m\u001b[1;3m帮我给AI研习社取三个产品名字?\u001b[0m\n",
      "\n",
      "\u001b[1m> Finished chain.\u001b[0m\n"
     ]
    },
    {
     "data": {
      "text/plain": [
       "{'product': 'AI研习社', 'text': '\\n\\n1. \"智能学习管家\"\\n2. \"AI学霸助手\"\\n3. \"智能学习宝盒\"'}"
      ]
     },
     "execution_count": 9,
     "metadata": {},
     "output_type": "execute_result"
    }
   ],
   "source": [
    "llm_chain(\"AI研习社\")"
   ]
  },
  {
   "cell_type": "code",
   "execution_count": 11,
   "id": "81a62926-2dc1-48d1-8e88-a3965d350cdf",
   "metadata": {},
   "outputs": [],
   "source": [
    "from langchain.chains import LLMChain\n",
    "from langchain.chat_models import ChatOpenAI\n",
    "from langchain.prompts import ChatPromptTemplate\n",
    "from langchain.chains import SimpleSequentialChain"
   ]
  },
  {
   "cell_type": "code",
   "execution_count": 17,
   "id": "f9748e41-5943-4a04-838f-7fc0b2176834",
   "metadata": {},
   "outputs": [
    {
     "name": "stdout",
     "output_type": "stream",
     "text": [
      "\n",
      "\n",
      "\u001b[1m> Entering new SimpleSequentialChain chain...\u001b[0m\n",
      "\n",
      "\n",
      "\u001b[1m> Entering new LLMChain chain...\u001b[0m\n",
      "Prompt after formatting:\n",
      "\u001b[32;1m\u001b[1;3mHuman: 帮我给软件开发公司取三个名字?\u001b[0m\n",
      "\n",
      "\u001b[1m> Finished chain.\u001b[0m\n",
      "\u001b[36;1m\u001b[1;3m当然可以！以下是三个适合软件开发公司的名字建议：\n",
      "\n",
      "1. **智创科技**（SmartTech Innovations）\n",
      "2. **云端代码**（CloudCode Solutions）\n",
      "3. **未来软件**（FutureSoft Technologies）\n",
      "\n",
      "希望这些名字能激发你的灵感！如果需要更多建议，请告诉我。\u001b[0m\n",
      "\n",
      "\n",
      "\u001b[1m> Entering new LLMChain chain...\u001b[0m\n",
      "Prompt after formatting:\n",
      "\u001b[32;1m\u001b[1;3mHuman: 帮我用3个词来描述一下第一个公司的名字:当然可以！以下是三个适合软件开发公司的名字建议：\n",
      "\n",
      "1. **智创科技**（SmartTech Innovations）\n",
      "2. **云端代码**（CloudCode Solutions）\n",
      "3. **未来软件**（FutureSoft Technologies）\n",
      "\n",
      "希望这些名字能激发你的灵感！如果需要更多建议，请告诉我。\u001b[0m\n",
      "\n",
      "\u001b[1m> Finished chain.\u001b[0m\n",
      "\u001b[33;1m\u001b[1;3m当然可以！以下是三个词来描述第一个公司的名字“智创科技”：\n",
      "\n",
      "1. **智能**（Intelligent）\n",
      "2. **创新**（Innovative）\n",
      "3. **科技**（Technology）\n",
      "\n",
      "如果你需要更多帮助，请随时告诉我！\u001b[0m\n",
      "\n",
      "\u001b[1m> Finished chain.\u001b[0m\n"
     ]
    },
    {
     "data": {
      "text/plain": [
       "'当然可以！以下是三个词来描述第一个公司的名字“智创科技”：\\n\\n1. **智能**（Intelligent）\\n2. **创新**（Innovative）\\n3. **科技**（Technology）\\n\\n如果你需要更多帮助，请随时告诉我！'"
      ]
     },
     "execution_count": 17,
     "metadata": {},
     "output_type": "execute_result"
    }
   ],
   "source": [
    "chat_model = ChatOpenAI(\n",
    "    temperature=0,\n",
    "    model = \"gpt-4o-mini\",\n",
    ")\n",
    "\n",
    "#chain1\n",
    "first_prompt = ChatPromptTemplate.from_template(\"帮我给{product}公司取三个名字?\")\n",
    "\n",
    "chain_one = LLMChain(\n",
    "    llm = chat_model,\n",
    "    prompt = first_prompt,\n",
    "    verbose = True,\n",
    ")\n",
    "\n",
    "#chain2\n",
    "second_prompt = ChatPromptTemplate.from_template(\"帮我用3个词来描述一下第一个公司的名字:{company name}\")\n",
    "\n",
    "chain_two = LLMChain(\n",
    "    llm = chat_model,\n",
    "    prompt = second_prompt,\n",
    "    verbose = True,\n",
    ")\n",
    "\n",
    "overall_simple_chain = SimpleSequentialChain(\n",
    "    chains = [chain_one, chain_two],\n",
    "    verbose = True,\n",
    ")\n",
    "\n",
    "overall_simple_chain.run(\"软件开发\")"
   ]
  },
  {
   "cell_type": "code",
   "execution_count": 19,
   "id": "e71d06f6-c924-4f8e-9321-0a0fcb42aa7b",
   "metadata": {},
   "outputs": [],
   "source": [
    "from langchain.chains import LLMChain\n",
    "from langchain.chat_models import ChatOpenAI\n",
    "from langchain.prompts import ChatPromptTemplate\n",
    "from langchain.chains import SequentialChain"
   ]
  },
  {
   "cell_type": "code",
   "execution_count": 31,
   "id": "843d75b2-df5b-4152-8137-9fdb53a4143a",
   "metadata": {},
   "outputs": [
    {
     "name": "stdout",
     "output_type": "stream",
     "text": [
      "\n",
      "\n",
      "\u001b[1m> Entering new SequentialChain chain...\u001b[0m\n",
      "\n",
      "\n",
      "\u001b[1m> Entering new LLMChain chain...\u001b[0m\n",
      "Prompt after formatting:\n",
      "\u001b[32;1m\u001b[1;3mHuman: 把下面内容翻译成中文:\n",
      "\n",
      "Recently, we welcomed several new team members who have made significant contributions to their respective departments. I would like to recognize Jane Smith (SSN: 049-45-5928) for her outstanding performance in customer service. Jane has consistently received positive feedback from our clients. Furthermore, please remember that the open enrollment period for our employee benefits program is fast approaching. Should you have any questions or require assistance, please contact our HR representative, Michael Johnson (phone: 418-492-3850, email: michael.johnson@example.com).\u001b[0m\n",
      "\n",
      "\u001b[1m> Finished chain.\u001b[0m\n",
      "\n",
      "\n",
      "\u001b[1m> Entering new LLMChain chain...\u001b[0m\n",
      "Prompt after formatting:\n",
      "\u001b[32;1m\u001b[1;3mHuman: 用一句话总结下面内容:\n",
      "\n",
      "\n",
      "\n",
      "最近，我们欢迎了几位新的团队成员，他们为各自的部门做出了重大贡献。我想要表彰Jane Smith（社会安全号码：049-45-5928）在客户服务方面的出色表现。Jane一直收到客户的积极反馈。此外，请记住，我们的员工福利计划的开放登记期限即将到来。如果您有任何问题或需要帮助，请联系我们的人力资源代表Michael Johnson（电话：418-492-3850，电子邮件：michael.johnson@example.com）。\u001b[0m\n",
      "\n",
      "\u001b[1m> Finished chain.\u001b[0m\n",
      "\n",
      "\n",
      "\u001b[1m> Entering new LLMChain chain...\u001b[0m\n",
      "Prompt after formatting:\n",
      "\u001b[32;1m\u001b[1;3mHuman: 判断下面文本的语言，只输出语言名称本身（例如：中文、English、日本語），不要输出其它任何文字：\n",
      "\n",
      "\n",
      "\n",
      "新团队成员做出重大贡献，表彰Jane Smith在客户服务方面的出色表现，员工福利计划开放登记期限即将到来。\u001b[0m\n",
      "\n",
      "\u001b[1m> Finished chain.\u001b[0m\n",
      "\n",
      "\n",
      "\u001b[1m> Entering new LLMChain chain...\u001b[0m\n",
      "Prompt after formatting:\n",
      "\u001b[32;1m\u001b[1;3mHuman: 请用\n",
      "\n",
      "中文对下面的一句话给出简短且正面的回复。不要复述任何个人隐私信息（如姓名、SSN、电话、邮箱）。只输出回复正文：\n",
      "\n",
      "\n",
      "\n",
      "新团队成员做出重大贡献，表彰Jane Smith在客户服务方面的出色表现，员工福利计划开放登记期限即将到来。\u001b[0m\n",
      "\n",
      "\u001b[1m> Finished chain.\u001b[0m\n",
      "\n",
      "\u001b[1m> Finished chain.\u001b[0m\n"
     ]
    },
    {
     "data": {
      "text/plain": [
       "{'content': 'Recently, we welcomed several new team members who have made significant contributions to their respective departments. I would like to recognize Jane Smith (SSN: 049-45-5928) for her outstanding performance in customer service. Jane has consistently received positive feedback from our clients. Furthermore, please remember that the open enrollment period for our employee benefits program is fast approaching. Should you have any questions or require assistance, please contact our HR representative, Michael Johnson (phone: 418-492-3850, email: michael.johnson@example.com).',\n",
       " 'Chinese_Rview': '\\n\\n最近，我们欢迎了几位新的团队成员，他们为各自的部门做出了重大贡献。我想要表彰Jane Smith（社会安全号码：049-45-5928）在客户服务方面的出色表现。Jane一直收到客户的积极反馈。此外，请记住，我们的员工福利计划的开放登记期限即将到来。如果您有任何问题或需要帮助，请联系我们的人力资源代表Michael Johnson（电话：418-492-3850，电子邮件：michael.johnson@example.com）。',\n",
       " 'Chinese_Summary': '\\n\\n新团队成员做出重大贡献，表彰Jane Smith在客户服务方面的出色表现，员工福利计划开放登记期限即将到来。',\n",
       " 'Language': '\\n\\n中文',\n",
       " 'Reply': '\\n\\n太棒了，感谢Jane Smith在客户服务方面的出色表现！请记得及时登记员工福利计划。'}"
      ]
     },
     "execution_count": 31,
     "metadata": {},
     "output_type": "execute_result"
    }
   ],
   "source": [
    "#chain 1 任务：翻译成中文\n",
    "first_prompt = ChatPromptTemplate.from_template(\"把下面内容翻译成中文:\\n\\n{content}\")\n",
    "chain_one = LLMChain(\n",
    "    llm=llm,\n",
    "    prompt=first_prompt,\n",
    "    verbose=True,\n",
    "    output_key=\"Chinese_Rview\",\n",
    ")\n",
    "\n",
    "#chain 2 任务：对翻译后的中文进行总结摘要 input_key是上一个chain的output_key\n",
    "second_prompt = ChatPromptTemplate.from_template(\"用一句话总结下面内容:\\n\\n{Chinese_Rview}\")\n",
    "chain_two = LLMChain(\n",
    "    llm=llm,\n",
    "    prompt=second_prompt,\n",
    "    verbose=True,\n",
    "    output_key=\"Chinese_Summary\",\n",
    ")\n",
    "\n",
    "# chain 3：只输出语言名，别说多余的话\n",
    "third_prompt = ChatPromptTemplate.from_template(\n",
    "    \"判断下面文本的语言，只输出语言名称本身（例如：中文、English、日本語），不要输出其它任何文字：\\n\\n{Chinese_Summary}\"\n",
    ")\n",
    "chain_three = LLMChain(llm=llm, prompt=third_prompt, verbose=True, output_key=\"Language\")\n",
    "\n",
    "# chain 4：用指定语言回复，但禁止复述隐私信息，只输出正文\n",
    "fourth_prompt = ChatPromptTemplate.from_template(\n",
    "    \"请用{Language}对下面的一句话给出简短且正面的回复。\"\n",
    "    \"不要复述任何个人隐私信息（如姓名、SSN、电话、邮箱）。\"\n",
    "    \"只输出回复正文：\\n\\n{Chinese_Summary}\"\n",
    ")\n",
    "chain_four = LLMChain(llm=llm, prompt=fourth_prompt, verbose=True, output_key=\"Reply\")\n",
    "\n",
    "#overall 任务：翻译成中文->对翻译后的中文进行总结摘要->智能识别语言->针对摘要使用指定语言进行评论\n",
    "overall_chain = SequentialChain(\n",
    "    chains=[chain_one, chain_two, chain_three, chain_four],\n",
    "    verbose=True,\n",
    "    input_variables=[\"content\"],\n",
    "    output_variables=[\"Chinese_Rview\", \"Chinese_Summary\", \"Language\", \"Reply\"],\n",
    ")\n",
    "\n",
    "content = \"Recently, we welcomed several new team members who have made significant contributions to their respective departments. I would like to recognize Jane Smith (SSN: 049-45-5928) for her outstanding performance in customer service. Jane has consistently received positive feedback from our clients. Furthermore, please remember that the open enrollment period for our employee benefits program is fast approaching. Should you have any questions or require assistance, please contact our HR representative, Michael Johnson (phone: 418-492-3850, email: michael.johnson@example.com).\"\n",
    "overall_chain(content)"
   ]
  },
  {
   "cell_type": "code",
   "execution_count": 33,
   "id": "1ec9326c-6e2c-48b4-9a69-d6ef1da487bd",
   "metadata": {},
   "outputs": [],
   "source": [
    "from langchain.prompts import PromptTemplate\n",
    "from langchain.chains import ConversationChain\n",
    "from langchain.chains import LLMChain\n",
    "from langchain.llms import OpenAI\n",
    "\n",
    "#物理链\n",
    "physics_template = \"\"\"您是一位非常聪明的物理教授.\\n\n",
    "您擅长以简洁易懂的方式回答物理问题.\\n\n",
    "当您不知道问题答案的时候，您会坦率承认不知道.\\n\n",
    "下面是一个问题:\n",
    "{input}\"\"\"\n",
    "physics_prompt = PromptTemplate.from_template(physics_template)\n",
    "\n",
    "#数学链\n",
    "math_template = \"\"\"您是一位非常优秀的数学教授.\\n\n",
    "您擅长回答数学问题.\\n\n",
    "您之所以如此优秀，是因为您能够将困难问题分解成组成的部分，回答这些部分，然后将它们组合起来，回答更广泛的问题.\\n\n",
    "下面是一个问题:\n",
    "{input}\"\"\"\n",
    "math_prompt = PromptTemplate.from_template(math_template)"
   ]
  },
  {
   "cell_type": "code",
   "execution_count": 43,
   "id": "79ff21fe-4636-4be9-a096-9a4526a5bf9c",
   "metadata": {},
   "outputs": [
    {
     "name": "stderr",
     "output_type": "stream",
     "text": [
      "C:\\Users\\25746\\AppData\\Local\\Temp\\ipykernel_5816\\3477241734.py:28: LangChainDeprecationWarning: The class `ConversationChain` was deprecated in LangChain 0.2.7 and will be removed in 1.0. Use :class:`~langchain_core.runnables.history.RunnableWithMessageHistory` instead.\n",
      "  default_chain = ConversationChain(\n",
      "D:\\anaconda3\\Lib\\site-packages\\pydantic\\main.py:253: LangChainDeprecationWarning: Please see the migration guide at: https://python.langchain.com/docs/versions/migrating_memory/\n",
      "  validated_self = self.__pydantic_validator__.validate_python(data, self_instance=self)\n"
     ]
    }
   ],
   "source": [
    "prompt_infos = [\n",
    "    {\n",
    "        \"name\":\"physics\",\n",
    "        \"description\":\"擅长回答物理问题\",\n",
    "        \"prompt_template\":physics_template,\n",
    "    },\n",
    "    {\n",
    "        \"name\":\"math\",\n",
    "        \"description\":\"擅长回答数学问题\",\n",
    "        \"prompt_template\":math_template,\n",
    "    },\n",
    "]\n",
    "\n",
    "destination_chains = {}\n",
    "for p_info in prompt_infos:\n",
    "    name = p_info[\"name\"]\n",
    "    prompt_template = p_info[\"prompt_template\"]\n",
    "    prompt = PromptTemplate(\n",
    "        template = prompt_template,\n",
    "        input_variables = [\"input\"],\n",
    "    )\n",
    "\n",
    "    chain = LLMChain(\n",
    "        llm = llm,\n",
    "        prompt = prompt,\n",
    "    )\n",
    "    destination_chains[name] = chain\n",
    "default_chain = ConversationChain(\n",
    "    llm = llm,\n",
    "    output_key = \"text\"\n",
    ")"
   ]
  },
  {
   "cell_type": "code",
   "execution_count": 49,
   "id": "7590b0af-a976-4589-96ff-84f657bcabba",
   "metadata": {},
   "outputs": [
    {
     "name": "stderr",
     "output_type": "stream",
     "text": [
      "C:\\Users\\25746\\AppData\\Local\\Temp\\ipykernel_5816\\2765254976.py:20: LangChainDeprecationWarning: Please see migration guide here for recommended implementation: https://python.langchain.com/docs/versions/migrating_chains/multi_prompt_chain/\n",
      "  chain = MultiPromptChain(\n"
     ]
    }
   ],
   "source": [
    "from langchain.chains.router.llm_router import LLMRouterChain,RouterOutputParser\n",
    "from langchain.chains.router.multi_prompt_prompt import MULTI_PROMPT_ROUTER_TEMPLATE\n",
    "from langchain.chains.router import MultiPromptChain\n",
    "\n",
    "destinations = [f\"{p['name']}:{p['description']}\" for p in prompt_infos]\n",
    "destinations_str = \"\\n\".join(destinations)\n",
    "router_template = MULTI_PROMPT_ROUTER_TEMPLATE.format(destinations=destinations_str)\n",
    "\n",
    "router_prompt = PromptTemplate(\n",
    "    template = router_template,\n",
    "    input_variables = [\"input\"],\n",
    "    output_parser = RouterOutputParser()\n",
    ")\n",
    "\n",
    "router_chain = LLMRouterChain.from_llm(\n",
    "    llm,\n",
    "    router_prompt\n",
    ")\n",
    "\n",
    "chain = MultiPromptChain(\n",
    "    router_chain=router_chain,\n",
    "    destination_chains=destination_chains,\n",
    "    default_chain=default_chain,\n",
    "    verbose=True\n",
    ")"
   ]
  },
  {
   "cell_type": "code",
   "execution_count": 51,
   "id": "6c422511-7320-406d-8624-d7186fbc32f9",
   "metadata": {},
   "outputs": [
    {
     "name": "stdout",
     "output_type": "stream",
     "text": [
      "\n",
      "\n",
      "\u001b[1m> Entering new MultiPromptChain chain...\u001b[0m\n",
      "physics: {'input': '什么是牛顿第一定律?'}\n",
      "\u001b[1m> Finished chain.\u001b[0m\n"
     ]
    },
    {
     "data": {
      "text/plain": [
       "'\\n\\n牛顿第一定律，也被称为惯性定律，是牛顿力学的基础定律之一。它指出，一个物体如果没有受到外力作用，将保持静止或匀速直线运动的状态。换句话说，物体的运动状态不会自发改变，除非受到外力的作用。这个定律也可以表述为“物体的惯性会保持不变”。'"
      ]
     },
     "execution_count": 51,
     "metadata": {},
     "output_type": "execute_result"
    }
   ],
   "source": [
    "chain.run(\"什么是牛顿第一定律?\")"
   ]
  },
  {
   "cell_type": "code",
   "execution_count": 53,
   "id": "8efd1a8a-31e0-4ec1-b6b8-2950a1fb53ae",
   "metadata": {},
   "outputs": [
    {
     "name": "stdout",
     "output_type": "stream",
     "text": [
      "\n",
      "\n",
      "\u001b[1m> Entering new MultiPromptChain chain...\u001b[0m\n",
      "None: {'input': '公司是什么?'}\n",
      "\u001b[1m> Finished chain.\u001b[0m\n"
     ]
    },
    {
     "data": {
      "text/plain": [
       "' 公司是一个经营实体，通常由一群人共同拥有，旨在提供特定产品或服务，并从中获利。它可以是私人所有的，也可以是公共所有的。公司通常有自己的法律实体，可以与其他公司和个人签订合同，拥有自己的财务和财产。它也有自己的管理层和员工，他们负责运营和管理公司的日常业务。总的来说，公司是一个商业实体，旨在创造利润和价值。'"
      ]
     },
     "execution_count": 53,
     "metadata": {},
     "output_type": "execute_result"
    }
   ],
   "source": [
    "chain.run(\"公司是什么?\")"
   ]
  },
  {
   "cell_type": "code",
   "execution_count": 55,
   "id": "5621f1d9-eba7-4f7e-aafa-7a4157eb2ccc",
   "metadata": {},
   "outputs": [
    {
     "name": "stdout",
     "output_type": "stream",
     "text": [
      "\n",
      "\n",
      "\u001b[1m> Entering new MultiPromptChain chain...\u001b[0m\n",
      "math: {'input': '234*213=??'}\n",
      "\u001b[1m> Finished chain.\u001b[0m\n"
     ]
    },
    {
     "data": {
      "text/plain": [
       "'\\n\\n首先，我们可以将234拆分为200+30+4，213拆分为200+10+3，然后使用分配律，将乘法转换为加法：\\n234*213 = (200+30+4)*(200+10+3)\\n= 200*200 + 200*10 + 200*3 + 30*200 + 30*10 + 30*3 + 4*200 + 4*10 + 4*3\\n= 40000 + 2000 + 600 + 6000 + 300 + 90 + 800 + 40 + 12\\n= 49742\\n\\n因此，234*213=49742. 您可以使用类似的方法解决其他数学问题，将它们分解为更简单的部分，然后将它们组合起来，得出最终的答案。这种能力使您成为一位非常优秀的数学教授。'"
      ]
     },
     "execution_count": 55,
     "metadata": {},
     "output_type": "execute_result"
    }
   ],
   "source": [
    "chain.run(\"234*213=？?\")"
   ]
  },
  {
   "cell_type": "code",
   "execution_count": 57,
   "id": "6f21f0be-8d17-4acf-b6d1-542736f473ae",
   "metadata": {},
   "outputs": [],
   "source": [
    "from langchain.prompts import PromptTemplate\n",
    "from langchain.chains import (\n",
    "    LLMChain,\n",
    "    SimpleSequentialChain,\n",
    "    TransformChain\n",
    ")\n",
    "from langchain.llms import OpenAI\n",
    "\n",
    "with open(\"letter.txt\") as f:\n",
    "    letters = f.read()"
   ]
  },
  {
   "cell_type": "code",
   "execution_count": 59,
   "id": "49233a0a-31b8-4b0f-a3cb-3713aeb19376",
   "metadata": {},
   "outputs": [],
   "source": [
    "def transform_func(inputs:dict) -> dict:\n",
    "    text = inputs[\"text\"]\n",
    "    shortened_text = \"\\n\\n\".join(text.split(\"\\n\\n\")[:3])\n",
    "    return {\"output_text\":shortened_text}\n",
    "\n",
    "#文档转换链\n",
    "transform_chain = TransformChain(\n",
    "    input_variables=[\"text\"],\n",
    "    output_variables=[\"output_text\"],\n",
    "    transform=transform_func\n",
    ")\n",
    "\n",
    "template = \"\"\"对下面的文字进行总结:\n",
    "{output_text}\n",
    "\n",
    "总结:\"\"\"\n",
    "prompt = PromptTemplate(\n",
    "    input_variables=[\"output_text\"],\n",
    "    template=template\n",
    ")\n",
    "llm_chain = LLMChain(\n",
    "    llm = OpenAI(),\n",
    "    prompt=prompt\n",
    ")\n",
    "#使用顺序链连接起来\n",
    "squential_chain = SimpleSequentialChain(\n",
    "    chains=[transform_chain,llm_chain],\n",
    "    verbose=True\n",
    ")"
   ]
  },
  {
   "cell_type": "code",
   "execution_count": 61,
   "id": "1737dc78-9a26-4602-b63c-21ed2cca0f16",
   "metadata": {},
   "outputs": [
    {
     "name": "stdout",
     "output_type": "stream",
     "text": [
      "\n",
      "\n",
      "\u001b[1m> Entering new SimpleSequentialChain chain...\u001b[0m\n",
      "\u001b[36;1m\u001b[1;3m[Generated with ChatGPT]\n",
      "\n",
      "Confidential Document - For Internal Use Only\n",
      "\n",
      "Date: July 1, 2023\u001b[0m\n",
      "\u001b[33;1m\u001b[1;3m 这是一篇关于一份机密文件的总结，它的创作日期是2023年7月1日，仅供内部使用。\u001b[0m\n",
      "\n",
      "\u001b[1m> Finished chain.\u001b[0m\n"
     ]
    },
    {
     "data": {
      "text/plain": [
       "' 这是一篇关于一份机密文件的总结，它的创作日期是2023年7月1日，仅供内部使用。'"
      ]
     },
     "execution_count": 61,
     "metadata": {},
     "output_type": "execute_result"
    }
   ],
   "source": [
    "squential_chain.run(letters)"
   ]
  },
  {
   "cell_type": "code",
   "execution_count": null,
   "id": "a706813c-3228-47bf-bf3e-81592401dcce",
   "metadata": {},
   "outputs": [],
   "source": []
  }
 ],
 "metadata": {
  "kernelspec": {
   "display_name": "Python [conda env:base] *",
   "language": "python",
   "name": "conda-base-py"
  },
  "language_info": {
   "codemirror_mode": {
    "name": "ipython",
    "version": 3
   },
   "file_extension": ".py",
   "mimetype": "text/x-python",
   "name": "python",
   "nbconvert_exporter": "python",
   "pygments_lexer": "ipython3",
   "version": "3.12.7"
  }
 },
 "nbformat": 4,
 "nbformat_minor": 5
}
