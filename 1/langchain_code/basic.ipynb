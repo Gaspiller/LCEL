{
 "cells": [
  {
   "cell_type": "code",
   "execution_count": 2,
   "id": "0a18ee42-2cab-44c2-b2cd-12362b79197e",
   "metadata": {},
   "outputs": [],
   "source": [
    "from dotenv import dotenv_values"
   ]
  },
  {
   "cell_type": "code",
   "execution_count": 4,
   "id": "da257b4d-9813-46f2-846a-285e66ef787d",
   "metadata": {},
   "outputs": [],
   "source": [
    "from langchain.llms import OpenAI, HuggingFaceHub, HuggingFaceTextGenInference"
   ]
  },
  {
   "cell_type": "code",
   "execution_count": 6,
   "id": "da2d5ad7-7043-45b2-8044-c12311b05d97",
   "metadata": {},
   "outputs": [
    {
     "ename": "NameError",
     "evalue": "name 'API_KEY' is not defined",
     "output_type": "error",
     "traceback": [
      "\u001b[1;31m---------------------------------------------------------------------------\u001b[0m",
      "\u001b[1;31mNameError\u001b[0m                                 Traceback (most recent call last)",
      "Cell \u001b[1;32mIn[6], line 1\u001b[0m\n\u001b[1;32m----> 1\u001b[0m llm \u001b[38;5;241m=\u001b[39m OpenAI(api_key \u001b[38;5;241m=\u001b[39m API_KEY, base_url \u001b[38;5;241m=\u001b[39m BASE_URL, model_name \u001b[38;5;241m=\u001b[39m \u001b[38;5;124m\"\u001b[39m\u001b[38;5;124mgpt-3.5-turbo\u001b[39m\u001b[38;5;124m\"\u001b[39m)\n",
      "\u001b[1;31mNameError\u001b[0m: name 'API_KEY' is not defined"
     ]
    }
   ],
   "source": [
    "llm = OpenAI(api_key = API_KEY, base_url = BASE_URL, model_name = \"gpt-3.5-turbo\")"
   ]
  },
  {
   "cell_type": "code",
   "execution_count": 8,
   "id": "1fe3b32d-0023-44f6-afd3-3728b6ed07d9",
   "metadata": {},
   "outputs": [],
   "source": [
    "from langchain.chat_models import ChatOpenAI\n",
    "from langchain.embeddings import OpenAIEmbeddings"
   ]
  },
  {
   "cell_type": "code",
   "execution_count": null,
   "id": "e15e377c-7067-47c3-a76e-8365de3fc6d5",
   "metadata": {},
   "outputs": [],
   "source": [
    "chat = ChatOpenAI(\n",
    "    api_key = API_KEY,\n",
    "    base_url = BASE_URL,\n",
    "    model_name = \"gpt-3.5-turbo\"\n",
    ")\n",
    "\n",
    "ans = chat.invoke(\"帮我写一个关于计算机的笑话，不要超过100个字\")\n",
    "print(ans.content)"
   ]
  },
  {
   "cell_type": "code",
   "execution_count": null,
   "id": "c664ad38-152b-45f7-8254-a0e8807a76af",
   "metadata": {},
   "outputs": [],
   "source": [
    "chat.batch([\"帮我写一个关于猫的笑话，不要超过100个字\"])"
   ]
  },
  {
   "cell_type": "code",
   "execution_count": 10,
   "id": "132b93a5-1254-4f89-87f7-5131c7c64aa2",
   "metadata": {},
   "outputs": [],
   "source": [
    "from langchain.prompts import PromptTemplate"
   ]
  },
  {
   "cell_type": "code",
   "execution_count": 12,
   "id": "323fc9a8-0a09-412f-bab4-ee9c1146aafc",
   "metadata": {},
   "outputs": [
    {
     "ename": "NameError",
     "evalue": "name 'PromptTempalte' is not defined",
     "output_type": "error",
     "traceback": [
      "\u001b[1;31m---------------------------------------------------------------------------\u001b[0m",
      "\u001b[1;31mNameError\u001b[0m                                 Traceback (most recent call last)",
      "Cell \u001b[1;32mIn[12], line 1\u001b[0m\n\u001b[1;32m----> 1\u001b[0m template \u001b[38;5;241m=\u001b[39m PromptTempalte\u001b[38;5;241m.\u001b[39mfrom_template()\n",
      "\u001b[1;31mNameError\u001b[0m: name 'PromptTempalte' is not defined"
     ]
    }
   ],
   "source": [
    "template = PromptTempalte.from_template(\n",
    "    \"请帮我写一个关于{topic}的笑话。输出遵循下面这个格式：{format}\",\n",
    "    partial_variables = {\"format\": \"仅仅输出一个笑话，不要输出其他任何内容\"}\n",
    ")\n",
    "\n",
    "pp = prompt.format(topic = \"猫\")\n",
    "print(pp)"
   ]
  },
  {
   "cell_type": "code",
   "execution_count": null,
   "id": "2b7b0090-d4b4-4938-9091-ea46575fa5f0",
   "metadata": {},
   "outputs": [],
   "source": [
    "prompt_text = PromptTemplate.from_template(\"写一个关于{topic}的笑话\")\n",
    "prompt_text.format(topic = \"dog\")\n"
   ]
  },
  {
   "cell_type": "code",
   "execution_count": null,
   "id": "d4bd124f-1b37-46e9-bf99-e81c4799b34b",
   "metadata": {},
   "outputs": [],
   "source": [
    "from langchain.prompts import PromptTemplate, FewShotPromptTemplate\n",
    "examples =[\n",
    "    {\"word\":\"高\", \"antonym\":\"矮\"},\n",
    "    {\"word\":\"胖\",\"antonym\":\"瘦\"},\n",
    "    ]\n",
    "example_template =\"\"\"\n",
    "词语: {word}\n",
    "反义词: {antonym}\\n\n",
    "\"\"\"\n",
    "example_prompt = PromptTempate(\n",
    "    input_variables = [\"word\", \"antonym\"],\n",
    "    template = example_template,\n",
    "    few_shot_prompt = FewShotPromptTemplate(\n",
    "        examples=examples[:1],\n",
    "    example_prompt=example_prompt,\n",
    "    prefix=\"给出输入词语的反义词\",\n",
    "    suffix=\"词语: {input}\\n反义词:\",\n",
    "    input_variables=[\"input\"],\n",
    "    example_separator=\"\\n\",    \n",
    "    )\n",
    ")"
   ]
  },
  {
   "cell_type": "code",
   "execution_count": 14,
   "id": "cd0e8f39-235f-466f-a560-875174ef4441",
   "metadata": {},
   "outputs": [],
   "source": [
    "from langchain.agents import load_tools\n",
    "from langchain.agents import initialize_agent\n",
    "from langchain.agents import AgentType"
   ]
  },
  {
   "cell_type": "code",
   "execution_count": null,
   "id": "89f50756-b286-4a0f-85f1-80f629c48848",
   "metadata": {},
   "outputs": [],
   "source": [
    "tools = load_tools([\"wikipedia\", \"kkn-math\"], llm = llm)\n",
    "agent = initialize_agent(\n",
    "    tools,\n",
    "    llm,\n",
    "    agent = AgentType.ZERO_SHOT_REACT_DESCRIPTION,\n",
    "    verbose = True\n",
    ")\n",
    "\n",
    "agent.run(\"马斯克的生日是哪天\")"
   ]
  },
  {
   "cell_type": "code",
   "execution_count": 16,
   "id": "c7cdd028-8dfb-4690-bc2a-f397d35b35cf",
   "metadata": {},
   "outputs": [],
   "source": [
    "from langchain.prompts import ChatPromptTemplate, MessagesPlaceholder\n",
    "from langchain.tools.render import format_tool_to_openai_function\n",
    "from langchain.agents.format_scratchpad import format_to_openai_function_messages\n",
    "from langchain.agents.output_parsers import OpenAIFunctionsAgentOutputParser\n",
    "from langchain.agents import AgentExecutor\n",
    "\n",
    "from langchain.agents import tool"
   ]
  },
  {
   "cell_type": "code",
   "execution_count": null,
   "id": "da12a8ab-e7d9-4311-a9b1-e56234708fe6",
   "metadata": {},
   "outputs": [],
   "source": [
    "@tool\n",
    "def get_word_length(word:str) -> int:\n",
    "    return len(word)\n",
    "\n",
    "tools = [get_word_length]\n",
    "\n",
    "prompt = ChatPromptTemplate.form_messages(\n",
    "    [\n",
    "        (\n",
    "            \"system\",\n",
    "            \"you are very powerful assistant, but do not know current events\",\n",
    "        ),\n",
    "        (\"user\", \"{input}\"),\n",
    "        MessagesPlaceholder(variable_name = \"agent_scratchpad\"),\n",
    "    ]\n",
    ")\n",
    "\n",
    "llm_with_tools = chat.bind(function = [format_tool_to_openai_function(t) for t in tools])\n",
    "\n",
    "agent = (\n",
    "    {\n",
    "        \"input\": lambda x:x[\"input\"],\n",
    "        \"agent_scratchpad\": lambda x: format_to_openai_function_messages(\n",
    "            x[\"intermediate_steps\"]\n",
    "        )\n",
    "    }\n",
    "    | prompt\n",
    "    |llm_with_tools\n",
    "    | OpenAIFunctionsAgentOutputParser()\n",
    ")\n",
    "\n",
    "agent_executor = AgentExecutor(agent = agent, tools = tools, verbose = True)\n",
    "agent_executor.invoke({\"input\": \"how many letters inthe word educa\" })"
   ]
  },
  {
   "cell_type": "code",
   "execution_count": null,
   "id": "a04bdca1-b10d-4240-af0d-f87a4f5f3ff4",
   "metadata": {},
   "outputs": [],
   "source": [
    "# 推荐阅读 openai 怎么调用 function\n",
    "import openai\n",
    "import json\n",
    "from enum import Enum\n",
    "\n",
    "class BaseTool(Enum):\n",
    "    Bookkeeping = \"record_price\"\n",
    "    RecordingTask = \"record_task\"\n",
    "\n",
    "# record_price是用来给Function Calling调用的函数，\n",
    "# 这个函数接收两个必填的参数，category类目（string类型），count 数量（int类型）\n",
    "def record_price(category, count):\n",
    "    print(category, count)\n",
    "    print(\"调用获取实时物价的 API\")\n",
    "    return count*12\n",
    "\n",
    "def funtion_call_conversation(message):\n",
    "    messages = [\n",
    "      {\"role\": \"user\", \"content\": \"今天买了一斤肉，花了多少钱\"}\n",
    "    ]\n",
    "    response = openai.ChatCompletion.create(\n",
    "    model=\"gpt-3.5-turbo-0613\",\n",
    "    messages = message,\n",
    "    temperature=0,\n",
    "    functions=[\n",
    "      {\n",
    "        \"name\": BaseTool.Bookkeeping.value,\n",
    "        \"description\": \"返回物品的数量\",\n",
    "        \"parameters\": {\n",
    "          \"type\": \"object\",\n",
    "          \"properties\": {\n",
    "            \"category\": {\"type\": \"string\",\"description\": \"类目\",},\n",
    "            \"count\": {\"type\": \"integer\", \"description\": \"数量\"},\n",
    "          },\n",
    "          \"required\": [\"category\",\"count\"],\n",
    "        },\n",
    "      }\n",
    "    ],\n",
    "    function_call=\"auto\",\n",
    "    )\n",
    "    message = response[\"choices\"][0][\"message\"]\n",
    "    print(message)\n",
    "    if(message.get(\"function_call\")):\n",
    "        function_name = message[\"function_call\"][\"name\"]\n",
    "        if function_name == BaseTool.Bookkeeping.value:\n",
    "            arguments = json.loads(message[\"function_call\"][\"arguments\"])\n",
    "            price = record_price(arguments.get('category'), arguments.get('count'))\n",
    "            messages.append(message)\n",
    "            messages.append({\"role\": \"function\", \"name\": BaseTool.Bookkeeping.value, \"content\": price})\n",
    "            print(messages)\n",
    "            role_function_conversation(messages)\n",
    "\n",
    "def role_function_conversation(message):\n",
    "    response = openai.ChatCompletion.create(\n",
    "    model=\"gpt-3.5-turbo-0613\",\n",
    "    messages = message,\n",
    "    temperature=0,\n",
    "    # name字段表示要调用的函数名，description表示函数描述（让 LLM 读得懂的函数说明）\n",
    "    # paramters是一个符合JSON Schema格式的对象，用来描述这个函数的入参信息\n",
    "    functions=[\n",
    "      {\n",
    "        \"name\": BaseTool.Bookkeeping.value,\n",
    "        \"description\": \"返回物品的数量\",\n",
    "        \"parameters\": {\n",
    "          \"type\": \"object\",\n",
    "          \"properties\": {\n",
    "            \"category\": {\"type\": \"string\",\"description\": \"类目\",},\n",
    "            \"count\": {\"type\": \"integer\", \"description\": \"数量\"},\n",
    "          },\n",
    "          \"required\": [\"category\",\"count\"],\n",
    "        },\n",
    "      }\n",
    "    ],\n",
    "    function_call=\"auto\",\n",
    "    )\n",
    "    message = response[\"choices\"][0][\"message\"].get(\"content\")\n",
    "    print(message)\n",
    "    \n",
    "\n",
    "if __name__ == \"__main__\":\n",
    "    funtion_call_conversation()"
   ]
  }
 ],
 "metadata": {
  "kernelspec": {
   "display_name": "Python [conda env:base] *",
   "language": "python",
   "name": "conda-base-py"
  },
  "language_info": {
   "codemirror_mode": {
    "name": "ipython",
    "version": 3
   },
   "file_extension": ".py",
   "mimetype": "text/x-python",
   "name": "python",
   "nbconvert_exporter": "python",
   "pygments_lexer": "ipython3",
   "version": "3.12.7"
  }
 },
 "nbformat": 4,
 "nbformat_minor": 5
}
