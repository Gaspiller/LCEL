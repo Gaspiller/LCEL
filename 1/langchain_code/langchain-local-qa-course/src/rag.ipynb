{
 "cells": [
  {
   "cell_type": "markdown",
   "metadata": {},
   "source": [
    "LangChain 六大模块\n",
    "\n",
    "LLM\n",
    "prompt\n",
    "chains\n",
    "retrieval\n",
    "memory\n",
    "agents\n",
    "\n",
    "chain 有两种输入： input (prompt)  或者  dict；\n",
    "\n",
    "dict 更好用，因为可以有名字"
   ]
  },
  {
   "cell_type": "markdown",
   "metadata": {},
   "source": [
    "## basic RAG "
   ]
  },
  {
   "cell_type": "code",
   "execution_count": null,
   "metadata": {},
   "outputs": [],
   "source": [
    "from operator import itemgetter\n",
    "from dotenv import dotenv_values\n",
    "from langchain.prompts import ChatPromptTemplate\n",
    "from langchain_community.chat_models import ChatOpenAI\n",
    "from langchain_community.embeddings import OpenAIEmbeddings\n",
    "from langchain_community.vectorstores import FAISS\n",
    "from langchain_core.output_parsers import StrOutputParser\n",
    "from langchain_core.runnables import RunnableLambda, RunnablePassthrough\n",
    "from langchain.retrievers import BM25Retriever, EnsembleRetriever\n",
    "from langchain.document_loaders import TextLoader"
   ]
  },
  {
   "cell_type": "code",
   "execution_count": null,
   "metadata": {},
   "outputs": [],
   "source": [
    "ENV_CONFIG = dotenv_values(\"../.env\")\n",
    "vectorstore = FAISS.load_local(\"../data/db_index\", \n",
    "    OpenAIEmbeddings(api_key=ENV_CONFIG.get(\"API_KEY\"), \n",
    "                               base_url=ENV_CONFIG.get(\"BASE_URL\"))\n",
    ")\n",
    "retriever = vectorstore.as_retriever()"
   ]
  },
  {
   "cell_type": "code",
   "execution_count": null,
   "metadata": {},
   "outputs": [],
   "source": [
    "vectorstore.similarity_search(\"rag的本质是什么\", k=1)"
   ]
  },
  {
   "cell_type": "code",
   "execution_count": null,
   "metadata": {},
   "outputs": [],
   "source": [
    "\n",
    "text_loader = TextLoader(\"../data/text.txt\")\n",
    "text_docs = text_loader.load()\n",
    "\n",
    "bm25_retriever = BM25Retriever.from_documents(documents=text_docs, k=1)"
   ]
  },
  {
   "cell_type": "code",
   "execution_count": null,
   "metadata": {},
   "outputs": [],
   "source": [
    "\n",
    "emb_retriever = vectorstore.as_retriever(search_kwargs={\"k\": 1})\n",
    "bm25_retriever"
   ]
  },
  {
   "cell_type": "code",
   "execution_count": null,
   "metadata": {},
   "outputs": [],
   "source": [
    "ensemble_retriever = EnsembleRetriever(\n",
    "    retrievers=[bm25_retriever, emb_retriever], weights=[0.5, 0.5]\n",
    ")\n"
   ]
  },
  {
   "cell_type": "code",
   "execution_count": null,
   "metadata": {},
   "outputs": [],
   "source": [
    "# {\"question\"： \"rag的本质是什么？\", \"context\": \"doc1, doc2\"}\n",
    "template = \"\"\"Answer the question based only on the following context:\n",
    "{context}\n",
    "\n",
    "Question: {question}\n",
    "\"\"\"\n",
    "prompt = ChatPromptTemplate.from_template(template)"
   ]
  },
  {
   "cell_type": "code",
   "execution_count": null,
   "metadata": {},
   "outputs": [],
   "source": [
    "\n",
    "\n",
    "# template = \"\"\"Answer the question based only on the following context:\n",
    "# {context}\n",
    "\n",
    "# Question: {question}\n",
    "# \"\"\"\n",
    "# prompt = ChatPromptTemplate.from_template(template)\n",
    "\n",
    "model = ChatOpenAI(\n",
    "    api_key=ENV_CONFIG.get(\"API_KEY\"), base_url=ENV_CONFIG.get(\"BASE_URL\")\n",
    ")"
   ]
  },
  {
   "cell_type": "code",
   "execution_count": null,
   "metadata": {},
   "outputs": [],
   "source": [
    "#  chain也是一个函数， 函数就是一个 DAG\n",
    "# 解读 Chain； \n",
    "chain = (\n",
    "    {\"context\": ensemble_retriever, \"question\": RunnablePassthrough()}\n",
    "    | prompt\n",
    "    | model\n",
    "    | StrOutputParser()\n",
    ")"
   ]
  },
  {
   "cell_type": "code",
   "execution_count": null,
   "metadata": {},
   "outputs": [],
   "source": [
    "print(({\"context\": ensemble_retriever, \"question\": RunnablePassthrough()}\n",
    "    | prompt).invoke(\"Rag的本质是什么\").messages[0].content)"
   ]
  },
  {
   "cell_type": "code",
   "execution_count": null,
   "metadata": {},
   "outputs": [],
   "source": [
    "# type(chain)\n",
    "model.invoke(\"rag的本质是什么\")\n"
   ]
  },
  {
   "cell_type": "code",
   "execution_count": null,
   "metadata": {},
   "outputs": [],
   "source": [
    "chain.invoke(\"rag的本质是什么？\")\n"
   ]
  },
  {
   "cell_type": "code",
   "execution_count": null,
   "metadata": {},
   "outputs": [],
   "source": [
    "type(chain)"
   ]
  },
  {
   "cell_type": "code",
   "execution_count": null,
   "metadata": {},
   "outputs": [],
   "source": [
    "chain.invoke(\"RAG的本质是什么？\")"
   ]
  },
  {
   "cell_type": "markdown",
   "metadata": {},
   "source": [
    "## 上面是一个简单的 RAG"
   ]
  },
  {
   "cell_type": "markdown",
   "metadata": {},
   "source": [
    "## langChain 自带的 RAG （工作用，学习不用）"
   ]
  },
  {
   "cell_type": "code",
   "execution_count": null,
   "metadata": {},
   "outputs": [],
   "source": [
    "# ## 用 写好的 chain\n",
    "\n",
    "# from langchain.chains import RetrievalQA\n",
    "\n",
    "# qa = RetrievalQA.from_chain_type(llm=model, \n",
    "#                                  chain_type=\"stuff\", \n",
    "#                                  retriever=retriever\n",
    "\n",
    "#                                  )\n",
    "# qa.invoke('rag的本质是什么')"
   ]
  },
  {
   "cell_type": "markdown",
   "metadata": {},
   "source": [
    "## RAG 复杂化一下\n",
    "\n",
    "希望传入一点别的东西；\n",
    "- 希望规定语言是什么\n",
    "- chain的另外一种写法，（通过 itemgetter 获取 input key value 内容）"
   ]
  },
  {
   "cell_type": "code",
   "execution_count": null,
   "metadata": {},
   "outputs": [],
   "source": [
    "template = \"\"\"Answer the question based only on the following context:\n",
    "{context}\n",
    "\n",
    "Question: {question}\n",
    "\n",
    "Answer in the following language: {language}\n",
    "\"\"\"\n",
    "prompt = ChatPromptTemplate.from_template(template)\n",
    "\n",
    "chain = (\n",
    "    {\n",
    "        \"context\": itemgetter(\"question\") | ensemble_retriever,\n",
    "        \"question\": itemgetter(\"question\"),\n",
    "        \"language\": itemgetter(\"language\"),\n",
    "    }\n",
    "    | prompt\n",
    "    | model\n",
    "    | StrOutputParser()\n",
    ")"
   ]
  },
  {
   "cell_type": "code",
   "execution_count": null,
   "metadata": {},
   "outputs": [],
   "source": [
    "chain.invoke({\"question\": \"RAG的本质是什么？\", \"language\": \"English\"})"
   ]
  },
  {
   "cell_type": "markdown",
   "metadata": {},
   "source": [
    "## format document\n",
    "先看一下 document 是什么"
   ]
  },
  {
   "cell_type": "code",
   "execution_count": null,
   "metadata": {},
   "outputs": [],
   "source": [
    "docs_test = ensemble_retriever.get_relevant_documents(\"rag的本质是什么\")"
   ]
  },
  {
   "cell_type": "code",
   "execution_count": null,
   "metadata": {},
   "outputs": [],
   "source": [
    "len(docs_test)"
   ]
  },
  {
   "cell_type": "code",
   "execution_count": null,
   "metadata": {},
   "outputs": [],
   "source": [
    "print(docs_test[0].page_content)"
   ]
  },
  {
   "cell_type": "code",
   "execution_count": null,
   "metadata": {},
   "outputs": [],
   "source": [
    "print(docs_test[1].page_content)"
   ]
  },
  {
   "cell_type": "markdown",
   "metadata": {},
   "source": [
    "## format document"
   ]
  },
  {
   "cell_type": "markdown",
   "metadata": {},
   "source": [
    "\n",
    "1. 用户可能有多轮\n",
    "2. 太长了 -> 历史对话总结，\n",
    "3. 用户说法不规范，-> 格式化/标准化用户文法\n",
    "4. format document"
   ]
  },
  {
   "cell_type": "markdown",
   "metadata": {},
   "source": [
    "rag的本质是富尔玛 ->  请问RAG的本质是什么？"
   ]
  },
  {
   "cell_type": "code",
   "execution_count": null,
   "metadata": {},
   "outputs": [],
   "source": [
    "from langchain.schema import format_document\n",
    "from langchain_core.messages import AIMessage, HumanMessage, get_buffer_string\n",
    "from langchain_core.runnables import RunnableParallel"
   ]
  },
  {
   "cell_type": "code",
   "execution_count": null,
   "metadata": {},
   "outputs": [],
   "source": [
    "from langchain.prompts.prompt import PromptTemplate\n",
    "# 这里 chat history 是用来 【标准化用户的输入的问题】\n",
    "\n",
    "_template = \"\"\"Given the following conversation and a follow up question, \n",
    "rephrase the follow up question to be a standalone question, in its original language.\n",
    "\n",
    "Chat History:\n",
    "{chat_history}\n",
    "Follow Up Input: {question}\n",
    "Standalone question:\"\"\"\n",
    "CONDENSE_QUESTION_PROMPT = PromptTemplate.from_template(_template)"
   ]
  },
  {
   "cell_type": "code",
   "execution_count": null,
   "metadata": {},
   "outputs": [],
   "source": [
    "template = \"\"\"Answer the question based only on the following context:\n",
    "{context}\n",
    "\n",
    "Question: {question}\n",
    "\"\"\"\n",
    "ANSWER_PROMPT = ChatPromptTemplate.from_template(template)"
   ]
  },
  {
   "cell_type": "code",
   "execution_count": null,
   "metadata": {},
   "outputs": [],
   "source": [
    "template = \"\"\"Answer the question based only on the following context:\n",
    "{context}\n",
    "\n",
    "Question: {question}\n",
    "\"\"\"\n",
    "ANSWER_PROMPT = ChatPromptTemplate.from_template(template)"
   ]
  },
  {
   "cell_type": "code",
   "execution_count": null,
   "metadata": {},
   "outputs": [],
   "source": [
    "\n",
    "DEFAULT_DOCUMENT_PROMPT = PromptTemplate.from_template(template=\"{page_content}\")\n",
    "\n",
    "\n",
    "def _combine_documents(\n",
    "    docs, document_prompt=DEFAULT_DOCUMENT_PROMPT, document_separator=\"\\n\\n\"\n",
    "):\n",
    "    # 重新排序； 把第二个放到 最末尾\n",
    "    final_docs = [docs[0]]\n",
    "    for i in range(2, len(docs)):\n",
    "        final_docs.append(docs[i])\n",
    "    final_docs.append(docs[1])\n",
    "    \n",
    "    doc_strings = [format_document(doc, document_prompt) for doc in final_docs]\n",
    "    return document_separator.join(doc_strings)\n",
    "# print('\\n'.join([x.page_content for x in docs_test]))"
   ]
  },
  {
   "cell_type": "code",
   "execution_count": null,
   "metadata": {},
   "outputs": [],
   "source": [
    "_inputs = RunnableParallel(\n",
    "    standalone_question=RunnablePassthrough.assign(\n",
    "        chat_history=lambda x: get_buffer_string(x[\"chat_history\"])\n",
    "    )\n",
    "    | CONDENSE_QUESTION_PROMPT\n",
    "    | ChatOpenAI(temperature=0, api_key=ENV_CONFIG.get(\"API_KEY\"), base_url=ENV_CONFIG.get(\"BASE_URL\"))\n",
    "    | StrOutputParser(),\n",
    ")\n",
    "\n",
    "_context = {\n",
    "    \"context\": itemgetter(\"standalone_question\") | ensemble_retriever | _combine_documents,\n",
    "    \"question\": lambda x: x[\"standalone_question\"],\n",
    "}\n",
    "conversational_qa_chain = _inputs | _context | ANSWER_PROMPT | ChatOpenAI(api_key=ENV_CONFIG.get(\"API_KEY\"), base_url=ENV_CONFIG.get(\"BASE_URL\")) | StrOutputParser()"
   ]
  },
  {
   "cell_type": "code",
   "execution_count": null,
   "metadata": {},
   "outputs": [],
   "source": [
    "# vector store 里面；\n",
    "# 可以读 mysql 的数据  -> Chroma, Faiss\n",
    "# conversational_qa_chain = _inputs | _context | ANSWER_PROMPT | ChatOpenAI(api_key=ENV_CONFIG.get(\"API_KEY\"), base_url=ENV_CONFIG.get(\"BASE_URL\")) | StrOutputParser()\n"
   ]
  },
  {
   "cell_type": "code",
   "execution_count": null,
   "metadata": {},
   "outputs": [],
   "source": [
    "# # {\"context\": xxx, \"question\"： xxxx}\n",
    "# # 假设要同时返回 retriever 检索回的 document\n",
    "# conversational_qa_chain2 = _inputs | _context | {\n",
    "#     \"ans\": ANSWER_PROMPT | ChatOpenAI(api_key=ENV_CONFIG.get(\"API_KEY\"), base_url=ENV_CONFIG.get(\"BASE_URL\")) | StrOutputParser(),\n",
    "#     \"doc\": itemgetter(\"context\")\n",
    "# }\n",
    "# conversational_qa_chain2.invoke({\"question\": \"RAG 的本质是什么？\",\n",
    "#         \"chat_history\": [],})"
   ]
  },
  {
   "cell_type": "code",
   "execution_count": null,
   "metadata": {},
   "outputs": [],
   "source": [
    "# 这里是为了让大家知道 langchain 的每一步都输入什么？（可以自己采用类似的调试方式）\n",
    "# conversational_qa_chain\n",
    "\n",
    "# (_inputs).invoke({\"question\": \"RAG 的本质是什么？\",\n",
    "#         \"chat_history\": [],})\n",
    "\n",
    "print((_inputs | _context | ANSWER_PROMPT).invoke({\"question\": \"RAG 的本质是什么？\",\n",
    "        \"chat_history\": [],}))"
   ]
  },
  {
   "cell_type": "code",
   "execution_count": null,
   "metadata": {},
   "outputs": [],
   "source": [
    "(_inputs | _context).invoke({\n",
    "        \"question\": \"RAG 的本质是什么？\",\n",
    "        \"chat_history\": [],\n",
    "    })"
   ]
  },
  {
   "cell_type": "code",
   "execution_count": null,
   "metadata": {},
   "outputs": [],
   "source": [
    "conversational_qa_chain.invoke(\n",
    "    {\n",
    "        \"question\": \"RAG 的本质是什么？\",\n",
    "        \"chat_history\": [],\n",
    "    }\n",
    ")"
   ]
  },
  {
   "cell_type": "markdown",
   "metadata": {},
   "source": [
    "## 更复杂的 RAG，把 检索的 document 也返回"
   ]
  },
  {
   "cell_type": "code",
   "execution_count": null,
   "metadata": {},
   "outputs": [],
   "source": [
    "from operator import itemgetter\n",
    "\n",
    "from langchain.memory import ConversationBufferMemory\n",
    "\n",
    "memory = ConversationBufferMemory(\n",
    "    return_messages=True, output_key=\"answer\", input_key=\"question\"\n",
    ")"
   ]
  },
  {
   "cell_type": "code",
   "execution_count": null,
   "metadata": {},
   "outputs": [],
   "source": [
    "# 设置一个 memory; 自动维护，而不是类似于上面的【用户传入 chat_history 、 注意这里的区别】\n",
    "# 上一个 demo 是用户要输入 history, 这里是通过 memory 维护，而不用每一次 invoke的时候都加上\n",
    "loaded_memory = RunnablePassthrough.assign(\n",
    "    chat_history=RunnableLambda(memory.load_memory_variables) | itemgetter(\"history\"),\n",
    ")\n",
    "# 标准化用户的输入问题\n",
    "standalone_question = {\n",
    "    \"standalone_question\": {\n",
    "        \"question\": lambda x: x[\"question\"],\n",
    "        \"chat_history\": lambda x: get_buffer_string(x[\"chat_history\"]),\n",
    "    }\n",
    "    | CONDENSE_QUESTION_PROMPT\n",
    "    | ChatOpenAI(temperature=0, api_key=ENV_CONFIG.get(\"API_KEY\"), base_url=ENV_CONFIG.get(\"BASE_URL\"))\n",
    "    | StrOutputParser(),\n",
    "}\n",
    "# 检索 Document \n",
    "retrieved_documents = {\n",
    "    \"docs\": itemgetter(\"standalone_question\") | retriever,\n",
    "    \"question\": lambda x: x[\"standalone_question\"],\n",
    "}\n",
    "# 通过检索回来的 doc 和标准化后的 question 构建 prompt\n",
    "final_inputs = {\n",
    "    \"context\": lambda x: _combine_documents(x[\"docs\"]),\n",
    "    \"question\": itemgetter(\"question\"),\n",
    "}\n",
    "# 返回答案，两条路\n",
    "# 一条直接 获得检索内容\n",
    "# 一条 构建 prompt -> chatmodel -> output parser\n",
    "answer = {\n",
    "    \"answer\": final_inputs | ANSWER_PROMPT | ChatOpenAI(api_key=ENV_CONFIG.get(\"API_KEY\"), base_url=ENV_CONFIG.get(\"BASE_URL\")),\n",
    "    \"docs\": itemgetter(\"docs\"),\n",
    "}\n",
    "# 构建完整链\n",
    "final_chain = loaded_memory | standalone_question | retrieved_documents | answer"
   ]
  },
  {
   "cell_type": "code",
   "execution_count": null,
   "metadata": {},
   "outputs": [],
   "source": [
    "inputs = {\"question\": \"Lewis提出了什么方法？\"}\n",
    "result = final_chain.invoke(inputs)\n",
    "result"
   ]
  },
  {
   "cell_type": "code",
   "execution_count": null,
   "metadata": {},
   "outputs": [],
   "source": [
    "# 用户的 memory 需要自己存一下；\n",
    "# 但是相对于手动传 history 好很多了；\n",
    "memory.save_context(inputs, {\"answer\": result[\"answer\"].content})"
   ]
  },
  {
   "cell_type": "code",
   "execution_count": null,
   "metadata": {},
   "outputs": [],
   "source": [
    "memory.load_memory_variables({})"
   ]
  },
  {
   "cell_type": "code",
   "execution_count": null,
   "metadata": {},
   "outputs": [],
   "source": [
    "# 这里看到不要穿 history, 因为通过 memory 完成了；\n",
    "inputs = {\"question\": \"how did Rag really work?\"}\n",
    "result = final_chain.invoke(inputs)\n",
    "result"
   ]
  }
 ],
 "metadata": {
  "kernelspec": {
   "display_name": "langchain-learn-v1",
   "language": "python",
   "name": "python3"
  },
  "language_info": {
   "codemirror_mode": {
    "name": "ipython",
    "version": 3
   },
   "file_extension": ".py",
   "mimetype": "text/x-python",
   "name": "python",
   "nbconvert_exporter": "python",
   "pygments_lexer": "ipython3",
   "version": "3.10.13"
  }
 },
 "nbformat": 4,
 "nbformat_minor": 2
}
