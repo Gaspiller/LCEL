{
 "cells": [
  {
   "cell_type": "code",
   "execution_count": null,
   "id": "2d304dd3-baa7-45e9-b37e-8e4b74d8b9e3",
   "metadata": {},
   "outputs": [],
   "source": [
    "from operator import itemgetter\n",
    "from dotenv import dotenv_values\n",
    "from langchain.prompts import ChatPromptTemplate\n",
    "from langchain_community.chat_models import ChatOpenAI\n",
    "from langchain_community.embeddings import OpenAIEmbeddings\n",
    "from langchain_community.vectorstores import FAISS\n",
    "from langchain_core.output_parsers import StrOutputParser\n",
    "from langchain_core.runnables import RunnableLambda, RunnablePassthrough\n",
    "from langchain.retrievers import BM25Retriever, EnsembleRetriever\n",
    "from langchain.document_loaders import TextLoader"
   ]
  },
  {
   "cell_type": "code",
   "execution_count": null,
   "id": "337db245-77f9-46e7-8667-bc1bbf4a30c5",
   "metadata": {},
   "outputs": [],
   "source": [
    "ENV_CONFIG = dotenv_values(\"../.env\")\n",
    "vectorstore = FAISS.load_local(\"../data/db_index\", \n",
    "    OpenAIEmbeddings(api_key=ENV_CONFIG.get(\"API_KEY\"), \n",
    "                               base_url=ENV_CONFIG.get(\"BASE_URL\"))\n",
    ")\n",
    "retriever = vectorstore.as_retriever()"
   ]
  },
  {
   "cell_type": "code",
   "execution_count": null,
   "id": "2eaa9629-d52a-4c77-9567-70dc9038433b",
   "metadata": {},
   "outputs": [],
   "source": [
    "vectorstore.similarity_search(\"RAG的本质是什么\",k = 1)"
   ]
  },
  {
   "cell_type": "code",
   "execution_count": null,
   "id": "749e6fa5-b754-455d-b308-514f3ea79734",
   "metadata": {},
   "outputs": [],
   "source": [
    "text_loader = TextLoader(\"../data/text.txt\")\n",
    "text_docs = text_loader.load()"
   ]
  },
  {
   "cell_type": "code",
   "execution_count": null,
   "id": "162843d8-cc73-4532-aad8-a151e99bda4c",
   "metadata": {},
   "outputs": [],
   "source": [
    "bm25_retriever = BM25Retriever.from_documents(documents = text_docs, k = 1)\n"
   ]
  },
  {
   "cell_type": "code",
   "execution_count": null,
   "id": "8427cba2-31ea-492d-81e8-1a9486997fbe",
   "metadata": {},
   "outputs": [],
   "source": [
    "emb_retriever = vectorstore.as_retriever(search_kwargs = {\"k\": 1})\n",
    "bm25_retriever"
   ]
  },
  {
   "cell_type": "code",
   "execution_count": null,
   "id": "3e034c2b-d008-4f47-9ed0-cae5e08b7820",
   "metadata": {},
   "outputs": [],
   "source": [
    "ensemble_retriever = EnsembleRetriever(\n",
    "    retrievers = [bm25_retriever, emb_retriever],weight = [0.5,0.5]\n",
    ")"
   ]
  },
  {
   "cell_type": "code",
   "execution_count": null,
   "id": "d9070c18-bba6-4248-9318-02abb27b2a64",
   "metadata": {},
   "outputs": [],
   "source": [
    "template = \"\"\"\n",
    "answer the question based only on the following context:\n",
    "{context}\n",
    "\n",
    "Question: {question}\n",
    "\"\"\"\n",
    "\n",
    "prompt = ChatPromptTemplate.from_template(template)"
   ]
  },
  {
   "cell_type": "code",
   "execution_count": null,
   "id": "c161d0b3-eb5f-49c4-9a2a-14fd1d012595",
   "metadata": {},
   "outputs": [],
   "source": [
    "chain = (\n",
    "    {\"context\": ensemble_retriever, \"question\": RunnablePassthrough()}\n",
    "    | prompt\n",
    "    | model\n",
    "    | StrOutputParser()\n",
    ")"
   ]
  },
  {
   "cell_type": "code",
   "execution_count": null,
   "id": "e2f9499e-f2b3-4640-a67e-293d69fd4ebd",
   "metadata": {},
   "outputs": [],
   "source": [
    "print(({\"context\": ensemble_retriever, \"question\": RunnablePassthrough()}\n",
    "    | prompt).invoke(\"Rag的本质是什么\").messages[0].content)"
   ]
  },
  {
   "cell_type": "code",
   "execution_count": null,
   "id": "0caa207e-7c9e-41a0-9a3b-c7af30a889cd",
   "metadata": {},
   "outputs": [],
   "source": [
    "# type(chain)\n",
    "model.invoke(\"rag的本质是什么\")\n"
   ]
  },
  {
   "cell_type": "code",
   "execution_count": null,
   "id": "26644174-ef60-452e-afcd-15ed165d10e4",
   "metadata": {},
   "outputs": [],
   "source": [
    "chain.invoke(\"rag的本质是什么？\")\n"
   ]
  },
  {
   "cell_type": "code",
   "execution_count": null,
   "id": "a0da54de-b89f-4517-b01b-5195b191148e",
   "metadata": {},
   "outputs": [],
   "source": [
    "qa = RetrieverQA.from_chain_type(\n",
    "    llm = model,\n",
    "    chain_type = \"stuff\",\n",
    "    retriever = retriever\n",
    ")\n",
    "\n",
    "qa.invoke(\"rag的本质是什么\")"
   ]
  },
  {
   "cell_type": "code",
   "execution_count": null,
   "id": "a3593579-7562-4c3c-ac86-2163146fdd04",
   "metadata": {},
   "outputs": [],
   "source": [
    "template = \"\"\"Answer the question based only on the following context:\n",
    "{context}\n",
    "\n",
    "Question: {question}\n",
    "\n",
    "Answer in the following language: {language}\n",
    "\"\"\"\n",
    "prompt = ChatPromptTemplate.from_template(template)\n",
    "\n",
    "chain = (\n",
    "    {\n",
    "        \"context\": itemgetter(\"question\") | ensemble_retriever,\n",
    "        \"question\": itemgetter(\"question\"),\n",
    "        \"language\": itemgetter(\"language\"),\n",
    "    }\n",
    "    | prompt\n",
    "    | model\n",
    "    | StrOutputParser()\n",
    ")"
   ]
  },
  {
   "cell_type": "code",
   "execution_count": null,
   "id": "78cccce2-bd22-42c0-9cdc-1336c0fa9302",
   "metadata": {},
   "outputs": [],
   "source": [
    "chain.invoke({\"question\": \"RAG的本质是什么？\", \"language\": \"English\"})"
   ]
  },
  {
   "cell_type": "code",
   "execution_count": null,
   "id": "5e02ef4f-e038-4e4e-872f-c50eb5b44a0e",
   "metadata": {},
   "outputs": [],
   "source": [
    "from langchain.prompts.prompt import PromptTemplate\n",
    "# 这里 chat history 是用来 【标准化用户的输入的问题】\n",
    "\n",
    "_template = \"\"\"Given the following conversation and a follow up question, \n",
    "rephrase the follow up question to be a standalone question, in its original language.\n",
    "\n",
    "Chat History:\n",
    "{chat_history}\n",
    "Follow Up Input: {question}\n",
    "Standalone question:\"\"\"\n",
    "CONDENSE_QUESTION_PROMPT = PromptTemplate.from_template(_template)"
   ]
  },
  {
   "cell_type": "code",
   "execution_count": null,
   "id": "1d91fc61-af36-4c6f-8e5c-535f19b72de7",
   "metadata": {},
   "outputs": [],
   "source": [
    "template = \"\"\"Answer the question based only on the following context:\n",
    "{context}\n",
    "\n",
    "Question: {question}\n",
    "\"\"\"\n",
    "ANSWER_PROMPT = ChatPromptTemplate.from_template(template)"
   ]
  },
  {
   "cell_type": "code",
   "execution_count": null,
   "id": "0cedc26a-f331-45c5-99aa-ce0f6bc2aa93",
   "metadata": {},
   "outputs": [],
   "source": [
    "\n",
    "DEFAULT_DOCUMENT_PROMPT = PromptTemplate.from_template(template=\"{page_content}\")\n",
    "\n",
    "\n",
    "def _combine_documents(\n",
    "    docs, document_prompt=DEFAULT_DOCUMENT_PROMPT, document_separator=\"\\n\\n\"\n",
    "):\n",
    "    # 重新排序； 把第二个放到 最末尾\n",
    "    final_docs = [docs[0]]\n",
    "    for i in range(2, len(docs)):\n",
    "        final_docs.append(docs[i])\n",
    "    final_docs.append(docs[1])\n",
    "    \n",
    "    doc_strings = [format_document(doc, document_prompt) for doc in final_docs]\n",
    "    return document_separator.join(doc_strings)\n",
    "# print('\\n'.join([x.page_content for x in docs_test]))"
   ]
  },
  {
   "cell_type": "code",
   "execution_count": null,
   "id": "fe77ce63-2e13-4a33-910b-dafd5c610dc0",
   "metadata": {},
   "outputs": [],
   "source": [
    "_inputs = RunnableParallel(\n",
    "    standalone_question=RunnablePassthrough.assign(\n",
    "        chat_history=lambda x: get_buffer_string(x[\"chat_history\"])\n",
    "    )\n",
    "    | CONDENSE_QUESTION_PROMPT\n",
    "    | ChatOpenAI(temperature=0, api_key=ENV_CONFIG.get(\"API_KEY\"), base_url=ENV_CONFIG.get(\"BASE_URL\"))\n",
    "    | StrOutputParser(),\n",
    ")\n",
    "\n",
    "_context = {\n",
    "    \"context\": itemgetter(\"standalone_question\") | ensemble_retriever | _combine_documents,\n",
    "    \"question\": lambda x: x[\"standalone_question\"],\n",
    "}\n",
    "conversational_qa_chain = _inputs | _context | ANSWER_PROMPT | ChatOpenAI(api_key=ENV_CONFIG.get(\"API_KEY\"), base_url=ENV_CONFIG.get(\"BASE_URL\")) | StrOutputParser()"
   ]
  },
  {
   "cell_type": "code",
   "execution_count": null,
   "id": "aa2095ca-49e2-4e1c-ba0b-07e3a66f5edf",
   "metadata": {},
   "outputs": [],
   "source": []
  },
  {
   "cell_type": "code",
   "execution_count": null,
   "id": "291627fc-9908-48ac-9d85-f80b3384a29d",
   "metadata": {},
   "outputs": [],
   "source": []
  },
  {
   "cell_type": "code",
   "execution_count": null,
   "id": "4a6eae81-ecd1-4fad-9afc-4096cf7af217",
   "metadata": {},
   "outputs": [],
   "source": []
  }
 ],
 "metadata": {
  "kernelspec": {
   "display_name": "Python [conda env:base] *",
   "language": "python",
   "name": "conda-base-py"
  },
  "language_info": {
   "codemirror_mode": {
    "name": "ipython",
    "version": 3
   },
   "file_extension": ".py",
   "mimetype": "text/x-python",
   "name": "python",
   "nbconvert_exporter": "python",
   "pygments_lexer": "ipython3",
   "version": "3.12.7"
  }
 },
 "nbformat": 4,
 "nbformat_minor": 5
}
