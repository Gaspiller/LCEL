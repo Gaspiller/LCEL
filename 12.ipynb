{
 "cells": [
  {
   "cell_type": "code",
   "execution_count": null,
   "id": "fb332702-2ac7-47a3-ad64-a5651f2b52bd",
   "metadata": {},
   "outputs": [],
   "source": [
    "import os\n",
    "import pandas as pd\n",
    "from langchain.llms import OpenAI\n",
    "from langchain.agents import (\n",
    "    load_tools,\n",
    "    initialize_agent,\n",
    "    AgentType,\n",
    ")\n",
    "api_key = os.getenv(\"OPENAI_API_KEY\")\n",
    "SERPAPI_API_KEY = os.getenv(\"SERPAPI_API_KEY\")\n",
    "os.environ[\"SERPAPI_API_KEY\"] = SERPAPI_API_KEY"
   ]
  },
  {
   "cell_type": "code",
   "execution_count": null,
   "id": "4366fc05-3156-4862-ba51-cf8a95cc0c45",
   "metadata": {},
   "outputs": [],
   "source": [
    "pd.set_option('display.max_row',300)"
   ]
  },
  {
   "cell_type": "code",
   "execution_count": null,
   "id": "7328490f-89a8-43b0-b3cf-01ea3abb308d",
   "metadata": {},
   "outputs": [],
   "source": [
    "llm = OpenAI(\n",
    "    temperature=0,\n",
    "    model = \"gpt-3.5-turbo-instruct\"\n",
    ")\n",
    "\n",
    "tools = load_tools([\"serpapi\", \"llm-math\"], llm = llm)\n",
    "agent = initialize_agent(\n",
    "    tools,\n",
    "    llm,\n",
    "    agent = AgentType.ZERO_SHOT_REACT_DESCRIPTION,\n",
    "    verbose = True\n",
    ")\n"
   ]
  },
  {
   "cell_type": "code",
   "execution_count": null,
   "id": "f42b021f-df1e-4353-b1d2-74aa2c08c045",
   "metadata": {},
   "outputs": [],
   "source": [
    "agent.run(\"你好，你是谁？\")"
   ]
  },
  {
   "cell_type": "code",
   "execution_count": null,
   "id": "217777d2-a82f-4f5d-bcca-70a1516b5a7b",
   "metadata": {},
   "outputs": [],
   "source": [
    "agent.run(\"现在的美国总统是谁？他的年龄乘以2等于多少？\")"
   ]
  },
  {
   "cell_type": "code",
   "execution_count": null,
   "id": "94c5e519-e88e-4325-997c-6d9b60c358a6",
   "metadata": {},
   "outputs": [],
   "source": [
    "from langchain.agents import Tool\n",
    "from langchain.agents import AgentType\n",
    "from langchain.memory import ConversationBufferMemory\n",
    "from langchain.chat_models import ChatOpenAI\n",
    "from langchain.utilities import SerpAPIWrapper\n",
    "from langchain.agents import initialize_agent\n",
    "from langchain.chains import LLMMathChain\n",
    "from langchain.prompts import  MessagesPlaceholder\n"
   ]
  },
  {
   "cell_type": "code",
   "execution_count": null,
   "id": "218d254b-86c8-41f1-bb89-2826e087f69f",
   "metadata": {},
   "outputs": [],
   "source": [
    "search = SerpAPIWrapper()\n",
    "llm = ChatOpenAI(\n",
    "    temperature = 0,\n",
    "    model = \"gpt-4o-mini\"\n",
    ")\n",
    "\n",
    "llm_math_chain = LLMMathChain(\n",
    "    llm = llm,\n",
    "    verbose = True,\n",
    ")\n",
    "\n",
    "tools = [\n",
    "    Tool(\n",
    "        name = \"Search\",\n",
    "        func = search.run,\n",
    "        description=\"useful for when you need to answer questions about current events or the current state of the world\"\n",
    "    ),\n",
    "    Tool(\n",
    "        name = \"Calculator\",\n",
    "        func = llm_math_chain.run,\n",
    "        description=\"useful for when you need to answer questions about math\"\n",
    "    )\n",
    "]\n",
    "print(tools)"
   ]
  },
  {
   "cell_type": "code",
   "execution_count": null,
   "id": "78d358b6-9b49-43b7-b8d1-cef274d5e855",
   "metadata": {},
   "outputs": [],
   "source": [
    "memory = ConversationBufferMemory(\n",
    "    memory_key = \"chat_history\",\n",
    "    return_messages=True\n",
    ")\n",
    "\n",
    "agent_chain = initialize_agent(\n",
    "    tools, \n",
    "    llm, \n",
    "    agent=AgentType.OPENAI_FUNCTIONS, \n",
    "    verbose=True, \n",
    "    handle_parsing_errors=True,\n",
    "    memory=memory \n",
    "    )"
   ]
  },
  {
   "cell_type": "code",
   "execution_count": null,
   "id": "b58cfda6-09df-46b4-abd3-5427506f1eb8",
   "metadata": {},
   "outputs": [],
   "source": [
    "print(agent_chain.agent.prompt.messages)\n",
    "print(agent_chain.agent.prompt.messages[0])\n",
    "print(agent_chain.agent.prompt.messages[1])\n",
    "print(agent_chain.agent.prompt.messages[2])"
   ]
  },
  {
   "cell_type": "code",
   "execution_count": null,
   "id": "ca307042-ec8d-4f90-936f-b6b1aec03595",
   "metadata": {},
   "outputs": [],
   "source": [
    "agent_chain.run(\"我叫CZL？\")"
   ]
  },
  {
   "cell_type": "code",
   "execution_count": null,
   "id": "2c0764aa-a7bb-400c-b80f-72815ede5f10",
   "metadata": {},
   "outputs": [],
   "source": [
    "agent_chain.run(\"帮我计算一下372*234等于多少？\")"
   ]
  },
  {
   "cell_type": "code",
   "execution_count": null,
   "id": "9ec0bc50-5009-4a99-88b1-16d8319fa1f7",
   "metadata": {},
   "outputs": [],
   "source": [
    "agent_chain.run(\"你还记得我叫什么名字吗\")"
   ]
  },
  {
   "cell_type": "code",
   "execution_count": null,
   "id": "613a6fbe-c4a4-4b7e-bd58-7f2526440498",
   "metadata": {},
   "outputs": [],
   "source": [
    "agent_chain = initialize_agent(\n",
    "    tools, \n",
    "    llm, \n",
    "    agent=AgentType.OPENAI_FUNCTIONS, \n",
    "    verbose=True, \n",
    "    handle_parsing_errors=True,\n",
    "    agent_kwargs={\n",
    "        \"extra_prompt_messages\":[MessagesPlaceholder(variable_name=\"chat_history\"),MessagesPlaceholder(variable_name=\"agent_scratchpad\")],\n",
    "    },\n",
    "    memory=memory\n",
    "    )"
   ]
  },
  {
   "cell_type": "code",
   "execution_count": null,
   "id": "ebc8c79f-c989-4f99-b953-5cead82ea79c",
   "metadata": {},
   "outputs": [],
   "source": [
    "agent_chain.run(\"好厉害，刚才我们都聊了什么？\")"
   ]
  },
  {
   "cell_type": "code",
   "execution_count": null,
   "id": "6cbb9521-e3d3-4b24-a883-88225e5d3524",
   "metadata": {},
   "outputs": [],
   "source": []
  }
 ],
 "metadata": {
  "kernelspec": {
   "display_name": "Python [conda env:base] *",
   "language": "python",
   "name": "conda-base-py"
  },
  "language_info": {
   "codemirror_mode": {
    "name": "ipython",
    "version": 3
   },
   "file_extension": ".py",
   "mimetype": "text/x-python",
   "name": "python",
   "nbconvert_exporter": "python",
   "pygments_lexer": "ipython3",
   "version": "3.12.7"
  }
 },
 "nbformat": 4,
 "nbformat_minor": 5
}
