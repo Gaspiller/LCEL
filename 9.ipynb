{
 "cells": [
  {
   "cell_type": "code",
   "execution_count": 1,
   "id": "e9aadb62-7dd7-411b-8c1b-d2afae64938f",
   "metadata": {},
   "outputs": [],
   "source": [
    "import os\n",
    "import os\n",
    "\n",
    "api_key = os.getenv(\"OPENAI_API_KEY\")"
   ]
  },
  {
   "cell_type": "code",
   "execution_count": 4,
   "id": "0661fd2c-e172-4b7e-94d7-b4230b0e73a3",
   "metadata": {},
   "outputs": [
    {
     "name": "stdout",
     "output_type": "stream",
     "text": [
      "Looking in indexes: https://pypi.org/simple, https://pypi.ngc.nvidia.com\n",
      "Requirement already satisfied: numexpr in d:\\anaconda3\\lib\\site-packages (2.8.7)\n",
      "Requirement already satisfied: numpy>=1.13.3 in d:\\anaconda3\\lib\\site-packages (from numexpr) (1.26.4)\n"
     ]
    }
   ],
   "source": [
    "! pip install numexpr"
   ]
  },
  {
   "cell_type": "code",
   "execution_count": 17,
   "id": "97328c18-abf2-472f-b2a0-3506af6620ba",
   "metadata": {},
   "outputs": [
    {
     "name": "stdout",
     "output_type": "stream",
     "text": [
      "Answer: 8\n"
     ]
    }
   ],
   "source": [
    "import os\n",
    "from langchain.chains import LLMMathChain\n",
    "from langchain_openai import ChatOpenAI\n",
    "from langchain.prompts import PromptTemplate\n",
    "from langchain.chains import LLMChain\n",
    "\n",
    "llm = ChatOpenAI(model=\"gpt-3.5-turbo\", temperature=0)\n",
    "\n",
    "chain = LLMMathChain.from_llm(llm=llm)\n",
    "\n",
    "print(chain.run(\"2+6等于几？\"))"
   ]
  },
  {
   "cell_type": "code",
   "execution_count": 19,
   "id": "faba80af-7aa8-46b3-bafb-b444d74ae5d1",
   "metadata": {},
   "outputs": [
    {
     "name": "stderr",
     "output_type": "stream",
     "text": [
      "C:\\Users\\25746\\AppData\\Local\\Temp\\ipykernel_11232\\3594235110.py:4: LangChainDeprecationWarning: The class `LLMChain` was deprecated in LangChain 0.1.17 and will be removed in 1.0. Use :meth:`~RunnableSequence, e.g., `prompt | llm`` instead.\n",
      "  chain = LLMChain(llm=llm, prompt=prompt)\n"
     ]
    },
    {
     "name": "stdout",
     "output_type": "stream",
     "text": [
      "男人是指生理上具有男性特征的人类个体，通常具有较强的体力和阳刚气质，也具有独立、坚强、责任感等特质。在社会角色中，男人通常被认为是家庭的经济支柱和保护者，承担着养家糊口、保护家庭成员等责任。男人在社会中扮演着重要的角色，是家庭、社会和国家的支柱之一。\n"
     ]
    }
   ],
   "source": [
    "template = \"请用中文解释这个词语：{word}\"\n",
    "prompt = PromptTemplate(input_variables=[\"word\"], template=template)\n",
    "llm = ChatOpenAI(model=\"gpt-3.5-turbo\", temperature=0)\n",
    "chain = LLMChain(llm=llm, prompt=prompt)\n",
    "print(chain.run({\"word\": \"男人\"}))"
   ]
  },
  {
   "cell_type": "code",
   "execution_count": 21,
   "id": "ca642e6c-8fe6-4721-9519-406159cf3984",
   "metadata": {},
   "outputs": [],
   "source": [
    "from typing import List, Dict, Any, Optional\n",
    "from langchain.callbacks.manager import (\n",
    "    CallbackManagerForChainRun\n",
    ")\n",
    "from langchain.chains.base import  Chain\n",
    "from langchain.prompts.base import BasePromptTemplate\n",
    "from langchain.base_language import  BaseLanguageModel\n"
   ]
  },
  {
   "cell_type": "code",
   "execution_count": 23,
   "id": "058315f9-48cd-4991-b134-100cecbb3297",
   "metadata": {},
   "outputs": [],
   "source": [
    "class wiki_article_chain(Chain):\n",
    "    prompt:BasePromptTemplate\n",
    "    llm:BaseLanguageModel\n",
    "    out_key:str=\"text\"\n",
    "\n",
    "    @property\n",
    "    def input_keys(self) -> List[str]:\n",
    "        return self.prompt.input_variables\n",
    "    \n",
    "    @property\n",
    "    def output_keys(self) -> List[str]:\n",
    "        return [self.out_key]\n",
    "    \n",
    "    def _call(\n",
    "        self,\n",
    "        inputs:Dict[str,Any],\n",
    "        run_manager:Optional[CallbackManagerForChainRun]=None,\n",
    "    ) -> Dict[str,Any]:\n",
    "        prompt_value = self.prompt.format_prompt(**inputs)\n",
    "        #print(\"prompt_value:\",prompt_value)\n",
    "        response = self.llm.generate_prompt(\n",
    "            [prompt_value],callbacks=run_manager.get_child() if run_manager else None\n",
    "        )\n",
    "        #print(\"response:\",response)\n",
    "        if run_manager:\n",
    "            run_manager.on_text(\"wiki article is written\")\n",
    "        return {self.out_key:response.generations[0][0].text}\n",
    "    \n",
    "    @property\n",
    "    def _chain_type(self) -> str:\n",
    "        return \"wiki_article_chain\"\n",
    "       "
   ]
  },
  {
   "cell_type": "code",
   "execution_count": 37,
   "id": "a3f990aa-5cb0-46bf-9d3b-df7b7b2568c8",
   "metadata": {},
   "outputs": [
    {
     "name": "stdout",
     "output_type": "stream",
     "text": [
      "降本增效（英文：Cost reduction and efficiency improvement）是指企业或组织通过优化资源配置和管理，降低成本，提高生产效率和经营效益的一种管理方法。降本增效是企业管理中非常重要的一环，可以帮助企业提高竞争力，实现可持续发展。\n",
      "\n",
      "降本增效的目标是通过降低生产成本和提高生产效率，实现企业的盈利最大化。在实施降本增效的过程中，企业需要进行全面的成本分析，找出造成成本增加的原因，并采取相应的措施进行改进。这些措施可以包括优化生产流程、提高员工效率、降低物流成本、节约能源等。\n",
      "\n",
      "降本增效的方法有很多种，企业可以根据自身的情况选择适合的方法进行实施。其中，技术创新是提高生产效率的重要手段之一。通过引入先进的生产技术和设备，企业可以提高生产效率，降低生产成本。此外，企业还可以通过优化供应链管理、精简组织结构、提高员工培训等方式来实现降本增效。\n",
      "\n",
      "降本增效不仅可以帮助企业提高盈利能力，还可以提高企业的竞争力和市场地位。通过降本增效，企业可以提高产品质量和服务水平，满足客户需求，赢得客户信赖。同时，降本增效还可以提高企业的可持续发展能力，为企业未来的发展奠定坚实基础。\n",
      "\n",
      "总的来说，降本增效是企业管理中非常重要的一环，可以帮助企业提高竞争力，实现可持续发展。企业应该不断探索创新，积极实施降本增效措施，提高生产效率，降低成本，实现经营效益的最大化。\n"
     ]
    }
   ],
   "source": [
    "from langchain.chat_models import  ChatOpenAI\n",
    "from langchain.prompts import  PromptTemplate\n",
    "\n",
    "chain = wiki_article_chain(\n",
    "    prompt=PromptTemplate(\n",
    "        template=\"写一篇关于{topic}的维基百科形式的文章\",\n",
    "        input_variables=[\"topic\"]\n",
    "    ),\n",
    "    llm=ChatOpenAI(\n",
    "        temperature=0\n",
    "    ),\n",
    ")\n",
    "result = chain.run({\"topic\":\"降本增效\"})\n",
    "print(result)"
   ]
  },
  {
   "cell_type": "code",
   "execution_count": null,
   "id": "3e8dd75d-774f-47cf-bc9a-702d5b71c122",
   "metadata": {},
   "outputs": [],
   "source": []
  }
 ],
 "metadata": {
  "kernelspec": {
   "display_name": "Python [conda env:base] *",
   "language": "python",
   "name": "conda-base-py"
  },
  "language_info": {
   "codemirror_mode": {
    "name": "ipython",
    "version": 3
   },
   "file_extension": ".py",
   "mimetype": "text/x-python",
   "name": "python",
   "nbconvert_exporter": "python",
   "pygments_lexer": "ipython3",
   "version": "3.12.7"
  }
 },
 "nbformat": 4,
 "nbformat_minor": 5
}
