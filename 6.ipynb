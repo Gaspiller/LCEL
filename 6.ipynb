{
 "cells": [
  {
   "cell_type": "code",
   "execution_count": 1,
   "id": "a352bd10-87b5-4aef-8aab-76201271351b",
   "metadata": {},
   "outputs": [],
   "source": [
    "import os\n",
    "import os\n",
    "from dotenv import load_dotenv\n",
    "load_dotenv(\"openai.env\")\n",
    "\n",
    "api_key = os.getenv(\"OPENAI_API_KEY\")"
   ]
  },
  {
   "cell_type": "code",
   "execution_count": 15,
   "id": "ec94c014-284c-4468-82b5-b74938cf46cd",
   "metadata": {},
   "outputs": [],
   "source": [
    "from langchain_openai import OpenAIEmbeddings\n",
    "\n",
    "e_model = OpenAIEmbeddings()\n",
    "ebeddings = e_model.embed_documents(\n",
    "     [\n",
    "        \"你好\",\n",
    "        \"你好啊\",\n",
    "        \"你叫什么名字?\",\n",
    "        \"我叫王大锤\",\n",
    "        \"很高兴认识你大锤\",\n",
    "    ]\n",
    ")\n",
    "ebeddings"
   ]
  },
  {
   "cell_type": "code",
   "execution_count": 21,
   "id": "a8c6a22f-14f0-4e5b-af6b-750a33936ff5",
   "metadata": {},
   "outputs": [
    {
     "name": "stdout",
     "output_type": "stream",
     "text": [
      "1536\n"
     ]
    }
   ],
   "source": [
    "from openai import OpenAI\n",
    "import os\n",
    "\n",
    "os.environ.pop(\"OPENAI_API_BASE\", None)\n",
    "os.environ.pop(\"OPENAI_BASE_URL\", None)\n",
    "os.environ.pop(\"HTTP_PROXY\", None)\n",
    "os.environ.pop(\"HTTPS_PROXY\", None)\n",
    "os.environ.pop(\"ALL_PROXY\", None)\n",
    "os.environ[\"OPENAI_HTTP2\"] = \"false\"\n",
    "\n",
    "client = OpenAI(api_key=os.getenv(\"OPENAI_API_KEY\"), base_url=\"https://api.openai.com/v1\")\n",
    "resp = client.embeddings.create(model=\"text-embedding-3-small\", input=\"你好\")\n",
    "print(len(resp.data[0].embedding))"
   ]
  },
  {
   "cell_type": "code",
   "execution_count": null,
   "id": "dc782163-8ad5-475c-8ecf-7cbc0a24cd98",
   "metadata": {},
   "outputs": [],
   "source": [
    "embedded_query = e_model.embed_query(\"这段对话中提到了什么名字?\")\n",
    "embedded_query[:5]"
   ]
  },
  {
   "cell_type": "code",
   "execution_count": null,
   "id": "b886acd7-8808-4fcf-b644-504aa3086481",
   "metadata": {},
   "outputs": [],
   "source": [
    "from langchain.embeddings import CacheBackedEmbeddings\n",
    "from langchain.storage import  LocalFileStore\n",
    "from langchain.document_loaders import TextLoader\n",
    "from langchain.text_splitter import CharacterTextSplitter\n",
    "from langchain_openai import OpenAIEmbeddings\n",
    "u_embeddings = OpenAIEmbeddings()\n",
    "fs = LocalFileStore(\"./cache/\")\n",
    "cached_embeddings = CacheBackedEmbeddings.from_bytes_store(\n",
    "    u_embeddings,\n",
    "    fs,\n",
    "    namespace=u_embeddings.model,\n",
    ")\n",
    "list(fs.yield_keys())"
   ]
  },
  {
   "cell_type": "code",
   "execution_count": null,
   "id": "1e4aea28-b67a-4a80-9b3a-f30529ede498",
   "metadata": {},
   "outputs": [],
   "source": [
    "#加载文档，切分文档，将切分文档向量化病存储在缓存中\n",
    "\n",
    "raw_documents = TextLoader(\"letter.txt\").load()\n",
    "text_splitter = CharacterTextSplitter(chunk_size=600,chunk_overlap=0)\n",
    "documents = text_splitter.split_documents(raw_documents)\n",
    "\n",
    "from langchain.vectorstores import  FAISS\n",
    "%timeit -r  1 -n 1 db= FAISS.from_documents(documents,cached_embeddings)\n",
    "\n",
    "#查看缓存中的键\n",
    "list(fs.yield_keys())"
   ]
  }
 ],
 "metadata": {
  "kernelspec": {
   "display_name": "Python [conda env:base] *",
   "language": "python",
   "name": "conda-base-py"
  },
  "language_info": {
   "codemirror_mode": {
    "name": "ipython",
    "version": 3
   },
   "file_extension": ".py",
   "mimetype": "text/x-python",
   "name": "python",
   "nbconvert_exporter": "python",
   "pygments_lexer": "ipython3",
   "version": "3.12.7"
  }
 },
 "nbformat": 4,
 "nbformat_minor": 5
}
